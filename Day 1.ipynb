{
 "cells": [
  {
   "cell_type": "markdown",
   "id": "9d1c7f8d",
   "metadata": {},
   "source": [
    "# Introduction "
   ]
  },
  {
   "cell_type": "markdown",
   "id": "cb4c40f2",
   "metadata": {},
   "source": [
    "### Theory Concepts\n",
    "- procedure vs object oriented -- buisness application\n",
    "- An <b> Armstrong number</b> is a special kind of number in math. It's a number that equals the sum of its digits, each raised to a power\n",
    "- A number is called happy if it leads to 1 after a sequence of steps wherein each step number is replaced by the sum of squares of its digit that is if we start with <b>Happy Number</b> and keep replacing it with digits square sum, we reach 1. \n",
    "- A<b> neon number</b> is a number where the sum of digits of square of the number is equal to the number\n",
    "-  find Cumulative sum of a list"
   ]
  },
  {
   "cell_type": "code",
   "execution_count": 5,
   "id": "8286fcf7",
   "metadata": {},
   "outputs": [
    {
     "name": "stdout",
     "output_type": "stream",
     "text": [
      "Enter number: 320\n",
      "No\n"
     ]
    }
   ],
   "source": [
    "#Armstrong number\n",
    "n=int(input(\"Enter number: \"))\n",
    "a=n\n",
    "b=len(str(n))\n",
    "s=0\n",
    "while n!=0:\n",
    "    rem=n%10\n",
    "    s=s+rem**b\n",
    "    n=n//10\n",
    "if s==a:\n",
    "    print(\"Yes\")\n",
    "else:\n",
    "    print(\"No\")"
   ]
  },
  {
   "cell_type": "code",
   "execution_count": 12,
   "id": "467f43c1",
   "metadata": {},
   "outputs": [
    {
     "name": "stdout",
     "output_type": "stream",
     "text": [
      "Enter Number: 9\n",
      "Yes\n"
     ]
    }
   ],
   "source": [
    "#Neon Number\n",
    "n=int(input(\"Enter Number: \"))\n",
    "sq=n**2\n",
    "b=len(str(sq))\n",
    "s=0\n",
    "for i in range(b):\n",
    "    rem=sq%10\n",
    "    s=s+rem\n",
    "    sq=sq//10\n",
    "if s==n:\n",
    "    print(\"Yes\")\n",
    "else:\n",
    "    print(\"No\")"
   ]
  },
  {
   "cell_type": "code",
   "execution_count": 14,
   "id": "dfcf111e",
   "metadata": {},
   "outputs": [
    {
     "name": "stdout",
     "output_type": "stream",
     "text": [
      "19 is a happy number: True\n",
      "2 is a happy number: False\n",
      "7 is a happy number: True\n",
      "4 is a happy number: False\n"
     ]
    }
   ],
   "source": [
    "# Happy Number\n",
    "def is_happy_number(n):\n",
    "    def get_next(number):\n",
    "        return sum(int(digit) ** 2 for digit in str(number))\n",
    "    \n",
    "    seen = set()\n",
    "    while n != 1 and n not in seen:\n",
    "        seen.add(n)\n",
    "        n = get_next(n)\n",
    "    \n",
    "    return n == 1\n",
    "\n",
    "test_numbers = [19, 2, 7, 4]\n",
    "for number in test_numbers:\n",
    "    print(f\"{number} is a happy number: {is_happy_number(number)}\")\n"
   ]
  },
  {
   "cell_type": "code",
   "execution_count": 9,
   "id": "75291064",
   "metadata": {},
   "outputs": [
    {
     "name": "stdout",
     "output_type": "stream",
     "text": [
      "Enter number: 5\n",
      "Factorial :  120\n",
      "Factorial using recursion :  120\n"
     ]
    }
   ],
   "source": [
    "#Factorial of number\n",
    "def fact (n):\n",
    "    product=1\n",
    "    for i in range(2,n+1):\n",
    "        product=product*i\n",
    "    return product\n",
    "def fact_rec(n):\n",
    "    if n==0:\n",
    "        return 1\n",
    "    else:\n",
    "        return n*fact(n-1)\n",
    "\n",
    "\n",
    "n=int(input(\"Enter number: \"))\n",
    "print(\"Factorial : \",fact(n))\n",
    "print(\"Factorial using recursion : \",fact_rec(n))"
   ]
  },
  {
   "cell_type": "code",
   "execution_count": 1,
   "id": "a8fd1707",
   "metadata": {},
   "outputs": [
    {
     "name": "stdout",
     "output_type": "stream",
     "text": [
      "Enter character: a\n",
      "97\n"
     ]
    }
   ],
   "source": [
    "#print ascii value of the character\n",
    "n=input(\"Enter character: \")\n",
    "print(ord(n))"
   ]
  },
  {
   "cell_type": "code",
   "execution_count": 12,
   "id": "b9f80da5",
   "metadata": {},
   "outputs": [
    {
     "name": "stdout",
     "output_type": "stream",
     "text": [
      "Enter : 3\n",
      "14\n",
      "14\n"
     ]
    }
   ],
   "source": [
    "#Sum of squares of first n nartural numbers\n",
    "def rec(n):\n",
    "    if n==0:\n",
    "        return 0\n",
    "    return n**2+rec(n-1)\n",
    "\n",
    "n=int(input(\"Enter : \"))\n",
    "sum=0\n",
    "for i in range(1,n+1):\n",
    "    sum=sum+(i**2)\n",
    "print(sum)\n",
    "print(rec(n))"
   ]
  },
  {
   "cell_type": "markdown",
   "id": "0fcbd95a",
   "metadata": {},
   "source": [
    "## Patterns"
   ]
  },
  {
   "cell_type": "markdown",
   "id": "ad8623e0",
   "metadata": {},
   "source": [
    "1) print pattern <br>\n",
    "11111 <br>\n",
    "10001<br>\n",
    "10001<br>\n",
    "11111<br>\n",
    "\n",
    "Here , we have to make a fence around the ground . So Fence will be either when row or column is zero or the row or column is last(n,m)"
   ]
  },
  {
   "cell_type": "code",
   "execution_count": 11,
   "id": "d9a5a632",
   "metadata": {},
   "outputs": [
    {
     "name": "stdout",
     "output_type": "stream",
     "text": [
      "Enter Row: 4\n",
      "Enter Column : 5\n",
      "11111\n",
      "10001\n",
      "10001\n",
      "11111\n"
     ]
    }
   ],
   "source": [
    "n=int(input(\"Enter Row: \"))\n",
    "m=int(input(\"Enter Column : \"))\n",
    "for i in range (n):\n",
    "    for j in range(m):\n",
    "        if (i==0 or j==0) or (i==n-1 or j==m-1):\n",
    "            print(1,end=\"\")\n",
    "        else:\n",
    "            print(0,end=\"\")\n",
    "    print()"
   ]
  },
  {
   "cell_type": "markdown",
   "id": "85eebf62",
   "metadata": {},
   "source": [
    "2) Pascals Pattern<br>\n",
    "     1<br>\n",
    "    1  1<br>\n",
    "   1 2 1<br>\n",
    "  1 3 3 1<br>\n",
    " 1 4 6 4 1<br>\n",
    "\n",
    "Pascal's Triangle is the triangular arrangement of numbers that gives the coefficients in the expansion of any binomial expression. The numbers are so arranged that they reflect as a triangle.\n",
    "\n",
    "#### Binomial coefficient \n",
    "Each element in row \\( n \\) and column \\( k \\) of Pascal's Triangle can be calculated using the binomial coefficient:\n",
    "\n",
    "( k n)= n! / k!(n−k)!\n",
    "\n",
    "Where:\n",
    "- \\( n \\) is the row number (starting from 0).\n",
    "- \\( k \\) is the position within the row (starting from 0).\n",
    "- \\( n! \\) denotes the factorial of \\( n \\)."
   ]
  },
  {
   "cell_type": "code",
   "execution_count": 16,
   "id": "174cb5fa",
   "metadata": {},
   "outputs": [
    {
     "name": "stdout",
     "output_type": "stream",
     "text": [
      "How many rows ? 4\n",
      "      1      \n",
      "    1   1    \n",
      "  1   2   1  \n",
      "1   3   3   1\n"
     ]
    }
   ],
   "source": [
    "\"\"\"Method using lists\"\"\"\n",
    "def generate_pascals_triangle(num_rows):\n",
    "    if num_rows <= 0:\n",
    "        return []\n",
    "\n",
    "    triangle = [[1]]  # Start with the first row\n",
    "\n",
    "    for i in range(1, num_rows):\n",
    "        row = [1]  # Start each row with a 1\n",
    "        for j in range(1, i):\n",
    "            row.append(triangle[i - 1][j - 1] + triangle[i - 1][j])  # Sum of the two values above\n",
    "        row.append(1)  # End each row with a 1\n",
    "        triangle.append(row)\n",
    "\n",
    "    return triangle\n",
    "\n",
    "def print_pascals_triangle_pyramid(num_rows):\n",
    "    triangle = generate_pascals_triangle(num_rows)\n",
    "    max_width = len(\"   \".join(map(str, triangle[-1])))  # Calculate the maximum width for the last row\n",
    "\n",
    "    for row in triangle:\n",
    "        row_str = \"   \".join(map(str, row))  # Convert row to a string with spaces in between elements\n",
    "        print(row_str.center(max_width))  # Center the row string relative to the maximum width\n",
    "\n",
    "num_rows = int(input(\"How many rows ? \"))\n",
    "print_pascals_triangle_pyramid(num_rows)\n"
   ]
  },
  {
   "cell_type": "code",
   "execution_count": 19,
   "id": "a8c5c3d5",
   "metadata": {},
   "outputs": [
    {
     "name": "stdout",
     "output_type": "stream",
     "text": [
      "Enter number of rows :5\n",
      "     1 \n",
      "    1 1 \n",
      "   1 2 1 \n",
      "  1 3 3 1 \n",
      " 1 4 6 4 1 \n",
      "1 5 10 10 5 1 \n"
     ]
    }
   ],
   "source": [
    "\"\"\"Method Using binomial coefficient formulae\"\"\"\n",
    "def fact(n):\n",
    "    if n==0:\n",
    "        return 1\n",
    "    else:\n",
    "        return n*fact(n-1)\n",
    "n=int(input(\"Enter number of rows :\" ))\n",
    "for i in range(n+1):\n",
    "    #spaces depends on number of rows  inversely\n",
    "    for j in range(n,i,-1):\n",
    "        print(' ',end='')\n",
    "    #calculate value using formulae\n",
    "    for k in range(i+1):\n",
    "        N=fact(i)\n",
    "        K=fact(k)\n",
    "        print(N//(K*fact(i-k)),end=' ')\n",
    "    print()"
   ]
  },
  {
   "cell_type": "markdown",
   "id": "8b1d8565",
   "metadata": {},
   "source": [
    "3) Print Pattern <br>\n",
    "1<br>\n",
    "0 1<br>\n",
    "1 0 1<br>\n",
    "0 1 0 1<br>"
   ]
  },
  {
   "cell_type": "code",
   "execution_count": 39,
   "id": "6b50faf2",
   "metadata": {},
   "outputs": [
    {
     "name": "stdout",
     "output_type": "stream",
     "text": [
      "Number of rows: 5\n",
      "[[0], [1, 0], [0, 1, 0], [1, 0, 1, 0], [0, 1, 0, 1, 0]]\n",
      "\n",
      "1 \n",
      "0 1 \n",
      "1 0 1 \n",
      "0 1 0 1 \n"
     ]
    }
   ],
   "source": [
    "n = int(input(\"Number of rows: \"))\n",
    "li = []\n",
    "\n",
    "for i in range(n):\n",
    "    r = []\n",
    "    for j in range(i + 1):\n",
    "        if i % 2 == 0:\n",
    "            if j == 0:\n",
    "                r.append(0)\n",
    "            else:\n",
    "                if r[j - 1] == 1:\n",
    "                    r.append(0)\n",
    "                else:\n",
    "                    r.append(1)\n",
    "        else:\n",
    "            if j == 0:\n",
    "                r.append(1)\n",
    "            else:\n",
    "                if r[j - 1] == 1:\n",
    "                    r.append(0)\n",
    "                else:\n",
    "                    r.append(1)\n",
    "    li.append(r)\n",
    "\n",
    "print(li)\n",
    "for i in range(len(li)):\n",
    "    for j in range(i):\n",
    "        print(li[i][j],end=\" \")\n",
    "    print()\n"
   ]
  },
  {
   "cell_type": "markdown",
   "id": "69805eaa",
   "metadata": {},
   "source": [
    "4) Print Pattern<br>\n",
    "12345<br>\n",
    "22345<br>\n",
    "33345<br>\n",
    "44445<br>\n",
    "55555<br>"
   ]
  },
  {
   "cell_type": "code",
   "execution_count": 47,
   "id": "1faf84ce",
   "metadata": {},
   "outputs": [
    {
     "name": "stdout",
     "output_type": "stream",
     "text": [
      "Enter Rows: 6\n",
      "1 2 3 4 5 6 \n",
      "2 2 3 4 5 6 \n",
      "3 3 3 4 5 6 \n",
      "4 4 4 4 5 6 \n",
      "5 5 5 5 5 6 \n",
      "6 6 6 6 6 6 \n"
     ]
    }
   ],
   "source": [
    "n=int(input(\"Enter Rows: \"))\n",
    "s=[]\n",
    "for i in range(1,n+1):\n",
    "    s.append(i)\n",
    "for i in range(1,n+1):\n",
    "    for j in range(i):\n",
    "        s[j]=i\n",
    "    for k in range(n):\n",
    "        print(s[k], end=\" \")\n",
    "    print()"
   ]
  },
  {
   "cell_type": "markdown",
   "id": "feadd5eb",
   "metadata": {},
   "source": [
    "5) Print Pattern<br>\n",
    " \n",
    "    \n",
    "              * \n",
    "            *   * \n",
    "          *       * \n",
    "        * * * * * * * "
   ]
  },
  {
   "cell_type": "code",
   "execution_count": 74,
   "id": "97bcfe14",
   "metadata": {},
   "outputs": [
    {
     "name": "stdout",
     "output_type": "stream",
     "text": [
      "Rows: 7\n",
      "              * \n",
      "            *   * \n",
      "          *       * \n",
      "        * * * * * * * "
     ]
    }
   ],
   "source": [
    "n = int(input(\"Rows: \"))\n",
    "for i in range(1, n):\n",
    "    if i % 2 != 0:\n",
    "        for k in range(n - i // 2):\n",
    "            print(\" \", end=' ')\n",
    "        for j in range(i):\n",
    "            if j == 0 or j == i - 1:\n",
    "                print(\"*\", end=\" \")\n",
    "            else:\n",
    "                print(\" \", end=\" \")\n",
    "        print()\n",
    "for i in range(n):\n",
    "    print('', end=\" \")\n",
    "print(\" \",end='')\n",
    "for i in range(n):\n",
    "    print('*', end=\" \")\n"
   ]
  },
  {
   "cell_type": "markdown",
   "id": "c368923a",
   "metadata": {},
   "source": [
    "## Bitwise operator"
   ]
  },
  {
   "cell_type": "code",
   "execution_count": 75,
   "id": "8c080874",
   "metadata": {},
   "outputs": [
    {
     "name": "stdout",
     "output_type": "stream",
     "text": [
      "Bitwise AND: 12\n",
      "Bitwise OR: 61\n",
      "Bitwise XOR: 49\n",
      "Bitwise NOT (a): -61\n",
      "Left Shift (a << 2): 240\n",
      "Right Shift (a >> 2): 15\n"
     ]
    }
   ],
   "source": [
    "# Example values\n",
    "a = 60    # 0011 1100\n",
    "b = 13    # 0000 1101\n",
    "\n",
    "# Bitwise AND\n",
    "print(\"Bitwise AND:\", a & b)  # Output: 12 (0000 1100)\n",
    "\n",
    "# Bitwise OR\n",
    "print(\"Bitwise OR:\", a | b)   # Output: 61 (0011 1101)\n",
    "\n",
    "# Bitwise XOR\n",
    "print(\"Bitwise XOR:\", a ^ b)  # Output: 49 (0011 0001)\n",
    "\n",
    "# Bitwise NOT\n",
    "print(\"Bitwise NOT (a):\", ~a) # Output: -61 (1100 0011)\n",
    "\n",
    "# Left Shift\n",
    "print(\"Left Shift (a << 2):\", a << 2)  # Output: 240 (1111 0000)\n",
    "\n",
    "# Right Shift\n",
    "print(\"Right Shift (a >> 2):\", a >> 2) # Output: 15 (0000 1111)\n"
   ]
  },
  {
   "cell_type": "code",
   "execution_count": 79,
   "id": "3244f56d",
   "metadata": {},
   "outputs": [
    {
     "name": "stdout",
     "output_type": "stream",
     "text": [
      "4 6 10 "
     ]
    }
   ],
   "source": [
    "#Print even numbers in a list\n",
    "li=[4,3,6,5,10]\n",
    "\n",
    "for i in range(len(li)):\n",
    "    if li[i]%2==0:\n",
    "        print(li[i],end=\" \")"
   ]
  },
  {
   "cell_type": "markdown",
   "id": "54e02e3d",
   "metadata": {},
   "source": [
    "## List Problems"
   ]
  },
  {
   "cell_type": "code",
   "execution_count": 1,
   "id": "eb4dc1e1",
   "metadata": {},
   "outputs": [
    {
     "name": "stdout",
     "output_type": "stream",
     "text": [
      "1 2 3 4 5\n",
      "[5, 2, 3, 4, 1]\n",
      "[]\n"
     ]
    }
   ],
   "source": [
    "#swap first and last elements in a list\n",
    "li=list(map(int,input().split()))\n",
    "li[0],li[-1]=li[-1],li[0]\n",
    "print(li)\n",
    "li.clear()\n",
    "print(li)"
   ]
  },
  {
   "cell_type": "code",
   "execution_count": 2,
   "id": "a4c59f07",
   "metadata": {},
   "outputs": [
    {
     "name": "stdout",
     "output_type": "stream",
     "text": [
      "10 20 30 40 50\n",
      "10\n",
      "30\n",
      "60\n",
      "100\n",
      "150\n"
     ]
    }
   ],
   "source": [
    "# find Cumulative sum of a list\n",
    "li=list(map(int,input().split()))\n",
    "summ=0\n",
    "l=[]\n",
    "for i in range (len(li)):\n",
    "    summ=summ+li[i]\n",
    "    l.append(summ)\n",
    "    print(l[i])\n"
   ]
  },
  {
   "cell_type": "markdown",
   "id": "746d8d29",
   "metadata": {},
   "source": [
    "### Setting theme"
   ]
  },
  {
   "cell_type": "code",
   "execution_count": 12,
   "id": "d54480f1",
   "metadata": {
    "scrolled": true
   },
   "outputs": [
    {
     "name": "stdout",
     "output_type": "stream",
     "text": [
      "Requirement already satisfied: jupyterthemes in d:\\app dev\\anaconda\\lib\\site-packages (0.20.0)Note: you may need to restart the kernel to use updated packages.\n",
      "\n",
      "Requirement already satisfied: lesscpy>=0.11.2 in d:\\app dev\\anaconda\\lib\\site-packages (from jupyterthemes) (0.15.1)\n",
      "Requirement already satisfied: matplotlib>=1.4.3 in d:\\app dev\\anaconda\\lib\\site-packages (from jupyterthemes) (3.7.0)\n",
      "Requirement already satisfied: notebook>=5.6.0 in d:\\app dev\\anaconda\\lib\\site-packages (from jupyterthemes) (6.5.2)\n",
      "Requirement already satisfied: jupyter-core in d:\\app dev\\anaconda\\lib\\site-packages (from jupyterthemes) (5.2.0)\n",
      "Requirement already satisfied: ipython>=5.4.1 in d:\\app dev\\anaconda\\lib\\site-packages (from jupyterthemes) (8.10.0)\n",
      "Requirement already satisfied: stack-data in d:\\app dev\\anaconda\\lib\\site-packages (from ipython>=5.4.1->jupyterthemes) (0.2.0)\n",
      "Requirement already satisfied: pygments>=2.4.0 in d:\\app dev\\anaconda\\lib\\site-packages (from ipython>=5.4.1->jupyterthemes) (2.17.2)\n",
      "Requirement already satisfied: colorama in d:\\app dev\\anaconda\\lib\\site-packages (from ipython>=5.4.1->jupyterthemes) (0.4.6)\n",
      "Requirement already satisfied: prompt-toolkit<3.1.0,>=3.0.30 in d:\\app dev\\anaconda\\lib\\site-packages (from ipython>=5.4.1->jupyterthemes) (3.0.36)\n",
      "Requirement already satisfied: pickleshare in d:\\app dev\\anaconda\\lib\\site-packages (from ipython>=5.4.1->jupyterthemes) (0.7.5)\n",
      "Requirement already satisfied: decorator in d:\\app dev\\anaconda\\lib\\site-packages (from ipython>=5.4.1->jupyterthemes) (5.1.1)\n",
      "Requirement already satisfied: traitlets>=5 in d:\\app dev\\anaconda\\lib\\site-packages (from ipython>=5.4.1->jupyterthemes) (5.7.1)\n",
      "Requirement already satisfied: jedi>=0.16 in d:\\app dev\\anaconda\\lib\\site-packages (from ipython>=5.4.1->jupyterthemes) (0.18.1)\n",
      "Requirement already satisfied: matplotlib-inline in d:\\app dev\\anaconda\\lib\\site-packages (from ipython>=5.4.1->jupyterthemes) (0.1.6)\n",
      "Requirement already satisfied: backcall in d:\\app dev\\anaconda\\lib\\site-packages (from ipython>=5.4.1->jupyterthemes) (0.2.0)\n",
      "Requirement already satisfied: ply in d:\\app dev\\anaconda\\lib\\site-packages (from lesscpy>=0.11.2->jupyterthemes) (3.11)\n",
      "Requirement already satisfied: cycler>=0.10 in d:\\app dev\\anaconda\\lib\\site-packages (from matplotlib>=1.4.3->jupyterthemes) (0.11.0)\n",
      "Requirement already satisfied: kiwisolver>=1.0.1 in d:\\app dev\\anaconda\\lib\\site-packages (from matplotlib>=1.4.3->jupyterthemes) (1.4.4)\n",
      "Requirement already satisfied: contourpy>=1.0.1 in d:\\app dev\\anaconda\\lib\\site-packages (from matplotlib>=1.4.3->jupyterthemes) (1.0.5)\n",
      "Requirement already satisfied: fonttools>=4.22.0 in d:\\app dev\\anaconda\\lib\\site-packages (from matplotlib>=1.4.3->jupyterthemes) (4.25.0)\n",
      "Requirement already satisfied: packaging>=20.0 in d:\\app dev\\anaconda\\lib\\site-packages (from matplotlib>=1.4.3->jupyterthemes) (22.0)\n",
      "Requirement already satisfied: pyparsing>=2.3.1 in d:\\app dev\\anaconda\\lib\\site-packages (from matplotlib>=1.4.3->jupyterthemes) (3.0.9)\n",
      "Requirement already satisfied: numpy>=1.20 in d:\\app dev\\anaconda\\lib\\site-packages (from matplotlib>=1.4.3->jupyterthemes) (1.23.5)\n",
      "Requirement already satisfied: pillow>=6.2.0 in d:\\app dev\\anaconda\\lib\\site-packages (from matplotlib>=1.4.3->jupyterthemes) (9.4.0)\n",
      "Requirement already satisfied: python-dateutil>=2.7 in d:\\app dev\\anaconda\\lib\\site-packages (from matplotlib>=1.4.3->jupyterthemes) (2.8.2)\n",
      "Requirement already satisfied: nbconvert>=5 in d:\\app dev\\anaconda\\lib\\site-packages (from notebook>=5.6.0->jupyterthemes) (6.5.4)\n",
      "Requirement already satisfied: jupyter-client>=5.3.4 in d:\\app dev\\anaconda\\lib\\site-packages (from notebook>=5.6.0->jupyterthemes) (7.3.4)\n",
      "Requirement already satisfied: nbclassic>=0.4.7 in d:\\app dev\\anaconda\\lib\\site-packages (from notebook>=5.6.0->jupyterthemes) (0.5.2)\n",
      "Requirement already satisfied: jinja2 in d:\\app dev\\anaconda\\lib\\site-packages (from notebook>=5.6.0->jupyterthemes) (3.1.2)\n",
      "Requirement already satisfied: pyzmq>=17 in d:\\app dev\\anaconda\\lib\\site-packages (from notebook>=5.6.0->jupyterthemes) (23.2.0)\n",
      "Requirement already satisfied: tornado>=6.1 in d:\\app dev\\anaconda\\lib\\site-packages (from notebook>=5.6.0->jupyterthemes) (6.1)\n",
      "Requirement already satisfied: ipython-genutils in d:\\app dev\\anaconda\\lib\\site-packages (from notebook>=5.6.0->jupyterthemes) (0.2.0)\n",
      "Requirement already satisfied: nbformat in d:\\app dev\\anaconda\\lib\\site-packages (from notebook>=5.6.0->jupyterthemes) (5.7.0)\n",
      "Requirement already satisfied: argon2-cffi in d:\\app dev\\anaconda\\lib\\site-packages (from notebook>=5.6.0->jupyterthemes) (21.3.0)\n",
      "Requirement already satisfied: prometheus-client in d:\\app dev\\anaconda\\lib\\site-packages (from notebook>=5.6.0->jupyterthemes) (0.14.1)\n",
      "Requirement already satisfied: nest-asyncio>=1.5 in d:\\app dev\\anaconda\\lib\\site-packages (from notebook>=5.6.0->jupyterthemes) (1.5.6)\n",
      "Requirement already satisfied: terminado>=0.8.3 in d:\\app dev\\anaconda\\lib\\site-packages (from notebook>=5.6.0->jupyterthemes) (0.17.1)\n",
      "Requirement already satisfied: ipykernel in d:\\app dev\\anaconda\\lib\\site-packages (from notebook>=5.6.0->jupyterthemes) (6.19.2)\n",
      "Requirement already satisfied: Send2Trash>=1.8.0 in d:\\app dev\\anaconda\\lib\\site-packages (from notebook>=5.6.0->jupyterthemes) (1.8.0)\n",
      "Requirement already satisfied: pywin32>=1.0 in d:\\app dev\\anaconda\\lib\\site-packages (from jupyter-core->jupyterthemes) (305.1)\n",
      "Requirement already satisfied: platformdirs>=2.5 in d:\\app dev\\anaconda\\lib\\site-packages (from jupyter-core->jupyterthemes) (2.5.2)\n",
      "Requirement already satisfied: parso<0.9.0,>=0.8.0 in d:\\app dev\\anaconda\\lib\\site-packages (from jedi>=0.16->ipython>=5.4.1->jupyterthemes) (0.8.3)\n",
      "Requirement already satisfied: entrypoints in d:\\app dev\\anaconda\\lib\\site-packages (from jupyter-client>=5.3.4->notebook>=5.6.0->jupyterthemes) (0.4)\n",
      "Requirement already satisfied: jupyter-server>=1.8 in d:\\app dev\\anaconda\\lib\\site-packages (from nbclassic>=0.4.7->notebook>=5.6.0->jupyterthemes) (1.23.4)\n",
      "Requirement already satisfied: notebook-shim>=0.1.0 in d:\\app dev\\anaconda\\lib\\site-packages (from nbclassic>=0.4.7->notebook>=5.6.0->jupyterthemes) (0.2.2)\n",
      "Requirement already satisfied: tinycss2 in d:\\app dev\\anaconda\\lib\\site-packages (from nbconvert>=5->notebook>=5.6.0->jupyterthemes) (1.2.1)\n",
      "Requirement already satisfied: nbclient>=0.5.0 in d:\\app dev\\anaconda\\lib\\site-packages (from nbconvert>=5->notebook>=5.6.0->jupyterthemes) (0.5.13)\n",
      "Requirement already satisfied: bleach in d:\\app dev\\anaconda\\lib\\site-packages (from nbconvert>=5->notebook>=5.6.0->jupyterthemes) (4.1.0)\n",
      "Requirement already satisfied: defusedxml in d:\\app dev\\anaconda\\lib\\site-packages (from nbconvert>=5->notebook>=5.6.0->jupyterthemes) (0.7.1)\n",
      "Requirement already satisfied: lxml in d:\\app dev\\anaconda\\lib\\site-packages (from nbconvert>=5->notebook>=5.6.0->jupyterthemes) (4.9.1)\n",
      "Requirement already satisfied: MarkupSafe>=2.0 in d:\\app dev\\anaconda\\lib\\site-packages (from nbconvert>=5->notebook>=5.6.0->jupyterthemes) (2.1.1)\n",
      "Requirement already satisfied: pandocfilters>=1.4.1 in d:\\app dev\\anaconda\\lib\\site-packages (from nbconvert>=5->notebook>=5.6.0->jupyterthemes) (1.5.0)\n",
      "Requirement already satisfied: mistune<2,>=0.8.1 in d:\\app dev\\anaconda\\lib\\site-packages (from nbconvert>=5->notebook>=5.6.0->jupyterthemes) (0.8.4)\n",
      "Requirement already satisfied: beautifulsoup4 in d:\\app dev\\anaconda\\lib\\site-packages (from nbconvert>=5->notebook>=5.6.0->jupyterthemes) (4.11.1)\n",
      "Requirement already satisfied: jupyterlab-pygments in d:\\app dev\\anaconda\\lib\\site-packages (from nbconvert>=5->notebook>=5.6.0->jupyterthemes) (0.1.2)\n",
      "Requirement already satisfied: fastjsonschema in d:\\app dev\\anaconda\\lib\\site-packages (from nbformat->notebook>=5.6.0->jupyterthemes) (2.16.2)\n",
      "Requirement already satisfied: jsonschema>=2.6 in d:\\app dev\\anaconda\\lib\\site-packages (from nbformat->notebook>=5.6.0->jupyterthemes) (4.17.3)\n",
      "Requirement already satisfied: wcwidth in d:\\app dev\\anaconda\\lib\\site-packages (from prompt-toolkit<3.1.0,>=3.0.30->ipython>=5.4.1->jupyterthemes) (0.2.5)\n",
      "Requirement already satisfied: six>=1.5 in d:\\app dev\\anaconda\\lib\\site-packages (from python-dateutil>=2.7->matplotlib>=1.4.3->jupyterthemes) (1.16.0)\n",
      "Requirement already satisfied: pywinpty>=1.1.0 in d:\\app dev\\anaconda\\lib\\site-packages (from terminado>=0.8.3->notebook>=5.6.0->jupyterthemes) (2.0.10)\n",
      "Requirement already satisfied: argon2-cffi-bindings in d:\\app dev\\anaconda\\lib\\site-packages (from argon2-cffi->notebook>=5.6.0->jupyterthemes) (21.2.0)\n",
      "Requirement already satisfied: comm>=0.1.1 in d:\\app dev\\anaconda\\lib\\site-packages (from ipykernel->notebook>=5.6.0->jupyterthemes) (0.1.2)\n",
      "Requirement already satisfied: psutil in d:\\app dev\\anaconda\\lib\\site-packages (from ipykernel->notebook>=5.6.0->jupyterthemes) (5.9.0)\n",
      "Requirement already satisfied: debugpy>=1.0 in d:\\app dev\\anaconda\\lib\\site-packages (from ipykernel->notebook>=5.6.0->jupyterthemes) (1.5.1)\n",
      "Requirement already satisfied: pure-eval in d:\\app dev\\anaconda\\lib\\site-packages (from stack-data->ipython>=5.4.1->jupyterthemes) (0.2.2)\n",
      "Requirement already satisfied: asttokens in d:\\app dev\\anaconda\\lib\\site-packages (from stack-data->ipython>=5.4.1->jupyterthemes) (2.0.5)\n",
      "Requirement already satisfied: executing in d:\\app dev\\anaconda\\lib\\site-packages (from stack-data->ipython>=5.4.1->jupyterthemes) (0.8.3)\n",
      "Requirement already satisfied: attrs>=17.4.0 in d:\\app dev\\anaconda\\lib\\site-packages (from jsonschema>=2.6->nbformat->notebook>=5.6.0->jupyterthemes) (22.1.0)\n",
      "Requirement already satisfied: pyrsistent!=0.17.0,!=0.17.1,!=0.17.2,>=0.14.0 in d:\\app dev\\anaconda\\lib\\site-packages (from jsonschema>=2.6->nbformat->notebook>=5.6.0->jupyterthemes) (0.18.0)\n",
      "Requirement already satisfied: websocket-client in d:\\app dev\\anaconda\\lib\\site-packages (from jupyter-server>=1.8->nbclassic>=0.4.7->notebook>=5.6.0->jupyterthemes) (0.58.0)\n",
      "Requirement already satisfied: anyio<4,>=3.1.0 in d:\\app dev\\anaconda\\lib\\site-packages (from jupyter-server>=1.8->nbclassic>=0.4.7->notebook>=5.6.0->jupyterthemes) (3.5.0)\n",
      "Requirement already satisfied: cffi>=1.0.1 in d:\\app dev\\anaconda\\lib\\site-packages (from argon2-cffi-bindings->argon2-cffi->notebook>=5.6.0->jupyterthemes) (1.15.1)\n",
      "Requirement already satisfied: soupsieve>1.2 in d:\\app dev\\anaconda\\lib\\site-packages (from beautifulsoup4->nbconvert>=5->notebook>=5.6.0->jupyterthemes) (2.3.2.post1)\n",
      "Requirement already satisfied: webencodings in d:\\app dev\\anaconda\\lib\\site-packages (from bleach->nbconvert>=5->notebook>=5.6.0->jupyterthemes) (0.5.1)\n",
      "Requirement already satisfied: idna>=2.8 in d:\\app dev\\anaconda\\lib\\site-packages (from anyio<4,>=3.1.0->jupyter-server>=1.8->nbclassic>=0.4.7->notebook>=5.6.0->jupyterthemes) (3.4)\n",
      "Requirement already satisfied: sniffio>=1.1 in d:\\app dev\\anaconda\\lib\\site-packages (from anyio<4,>=3.1.0->jupyter-server>=1.8->nbclassic>=0.4.7->notebook>=5.6.0->jupyterthemes) (1.2.0)\n",
      "Requirement already satisfied: pycparser in d:\\app dev\\anaconda\\lib\\site-packages (from cffi>=1.0.1->argon2-cffi-bindings->argon2-cffi->notebook>=5.6.0->jupyterthemes) (2.21)\n"
     ]
    }
   ],
   "source": [
    "pip install jupyterthemes\n"
   ]
  },
  {
   "cell_type": "code",
   "execution_count": 15,
   "id": "17bcd68e",
   "metadata": {},
   "outputs": [
    {
     "name": "stdout",
     "output_type": "stream",
     "text": [
      "Available Themes: \n",
      "   chesterish\n",
      "   grade3\n",
      "   gruvboxd\n",
      "   gruvboxl\n",
      "   monokai\n",
      "   oceans16\n",
      "   onedork\n",
      "   solarizedd\n",
      "   solarizedl\n"
     ]
    }
   ],
   "source": [
    "!jt -l"
   ]
  },
  {
   "cell_type": "code",
   "execution_count": 1,
   "id": "884cc1e4",
   "metadata": {},
   "outputs": [],
   "source": [
    "!jt -t    monokai -T -N -kl"
   ]
  }
 ],
 "metadata": {
  "kernelspec": {
   "display_name": "Python 3 (ipykernel)",
   "language": "python",
   "name": "python3"
  },
  "language_info": {
   "codemirror_mode": {
    "name": "ipython",
    "version": 3
   },
   "file_extension": ".py",
   "mimetype": "text/x-python",
   "name": "python",
   "nbconvert_exporter": "python",
   "pygments_lexer": "ipython3",
   "version": "3.10.9"
  }
 },
 "nbformat": 4,
 "nbformat_minor": 5
}

{
 "cells": [
  {
   "cell_type": "markdown",
   "id": "594ea683",
   "metadata": {},
   "source": [
    "# Data Types"
   ]
  },
  {
   "cell_type": "markdown",
   "id": "18f641dc",
   "metadata": {},
   "source": [
    "### Theory Concepts\n",
    "- membership operators"
   ]
  },
  {
   "cell_type": "code",
   "execution_count": 3,
   "id": "9b6cd395",
   "metadata": {},
   "outputs": [
    {
     "name": "stdout",
     "output_type": "stream",
     "text": [
      "3\n",
      "161\n"
     ]
    }
   ],
   "source": [
    "#binary\n",
    "a=0b11\n",
    "print(a)\n",
    "#hexadecimal\n",
    "a=0xA1\n",
    "print(a)"
   ]
  },
  {
   "cell_type": "markdown",
   "id": "d4cd9bcb",
   "metadata": {},
   "source": [
    "#### Random Library"
   ]
  },
  {
   "cell_type": "code",
   "execution_count": 22,
   "id": "b2074687",
   "metadata": {},
   "outputs": [
    {
     "name": "stdout",
     "output_type": "stream",
     "text": [
      "1100001000100110100100000010001100001010110111100101000010010001\n",
      "0.8038689612536319\n",
      "19\n",
      "[1, 4, 2, 3, 5]\n"
     ]
    }
   ],
   "source": [
    "import random\n",
    "s=''\n",
    "for i in range(64):\n",
    "    r=random.randint(0,1)\n",
    "    s+=str(r)\n",
    "print(s)\n",
    "print(random.random())\n",
    "print(random.randrange(10,20))\n",
    "li=[1,2,3,4,5]\n",
    "random.shuffle(li)\n",
    "print(li)"
   ]
  },
  {
   "cell_type": "code",
   "execution_count": 100,
   "id": "f49f2b70",
   "metadata": {},
   "outputs": [
    {
     "name": "stdout",
     "output_type": "stream",
     "text": [
      "<class 'list'> <class 'tuple'> <class 'dict'> <class 'set'>\n"
     ]
    }
   ],
   "source": [
    "l=[]\n",
    "t=()\n",
    "d={}\n",
    "s=set()\n",
    "print(type(l),type(t),type(d),type(s))"
   ]
  },
  {
   "cell_type": "markdown",
   "id": "c4804027",
   "metadata": {},
   "source": [
    "## Tuple"
   ]
  },
  {
   "cell_type": "code",
   "execution_count": 17,
   "id": "6f47a366",
   "metadata": {
    "scrolled": false
   },
   "outputs": [
    {
     "name": "stdout",
     "output_type": "stream",
     "text": [
      "Index of 8 : 3 \n",
      "Number of 5 in tuple : 2\n"
     ]
    }
   ],
   "source": [
    "thistuple = (1, 3, 7, 8, 7, 5, 4, 6, 8, 5)\n",
    "\n",
    "x = thistuple.index(8)\n",
    "n=thistuple.count(5)\n",
    "\n",
    "print(\"Index of 8 :\",x,\"\\nNumber of 5 in tuple :\",n)"
   ]
  },
  {
   "cell_type": "code",
   "execution_count": 50,
   "id": "372cfd32",
   "metadata": {},
   "outputs": [
    {
     "name": "stdout",
     "output_type": "stream",
     "text": [
      "Enter the elements of the tuple, separated by commas: 2,4,1,3,5,7\n",
      "Enter k: 3\n",
      "K minimum elements:\n",
      "1\n",
      "2\n",
      "3\n",
      "K maximum elements:\n",
      "7\n",
      "5\n",
      "4\n"
     ]
    }
   ],
   "source": [
    "#Maximum and minimum k elements\n",
    "user_input = input(\"Enter the elements of the tuple, separated by commas: \")\n",
    "elements = user_input.split(',')\n",
    "tp = tuple(int(e.strip()) for e in elements)\n",
    "k=int(input(\"Enter k: \"))\n",
    "l=list(tp)\n",
    "l.sort()\n",
    "print(\"K minimum elements:\")\n",
    "for i in range(k):\n",
    "    print(l[i])\n",
    "print(\"K maximum elements:\")\n",
    "for i in range(len(l)-1,len(l)-k-1,-1):\n",
    "    print(l[i])"
   ]
  },
  {
   "cell_type": "code",
   "execution_count": 52,
   "id": "b5c287c9",
   "metadata": {},
   "outputs": [
    {
     "name": "stdout",
     "output_type": "stream",
     "text": [
      "Enter list :1 2 3 4 5 6 7 8 9 10\n",
      "List of tuples: [(1, 1), (2, 8), (3, 27), (4, 64), (5, 125), (6, 216), (7, 343), (8, 512), (9, 729), (10, 1000)]\n"
     ]
    }
   ],
   "source": [
    "#create a list of tuples from given list having number and its cube in each tuple\n",
    "li=list(map(int,input(\"Enter list :\").split()))\n",
    "\n",
    "list_of_tuples = []\n",
    "for i in range(len(li)):\n",
    "    list_of_tuples.append((li[i], li[i]**3))\n",
    "    \n",
    "print(\"List of tuples:\", list_of_tuples)\n"
   ]
  },
  {
   "cell_type": "code",
   "execution_count": 55,
   "id": "5c7fc7bd",
   "metadata": {},
   "outputs": [
    {
     "name": "stdout",
     "output_type": "stream",
     "text": [
      "[1, 2, 3, 4, (5, 6)]\n",
      "(5, 6, 1, 2, 3, 4)\n"
     ]
    }
   ],
   "source": [
    "#Adding tuple to list\n",
    "li=[1,2,3,4]\n",
    "tp=(5,6)\n",
    "li.append(tp)\n",
    "print(li)\n",
    "\n",
    "#Adding list to tupple\n",
    "li=[1,2,3,4]\n",
    "tp=(5,6)\n",
    "tp1=tuple(li)\n",
    "tp=tp+tp1\n",
    "print(tp)"
   ]
  },
  {
   "cell_type": "code",
   "execution_count": 57,
   "id": "2aba6f5e",
   "metadata": {},
   "outputs": [
    {
     "name": "stdout",
     "output_type": "stream",
     "text": [
      "Enter the elements of the tuple, separated by commas: 1,2,3,4,5,6,7\n",
      "Sum is : 28\n"
     ]
    }
   ],
   "source": [
    "#Sum of tuple elements\n",
    "user_input = input(\"Enter the elements of the tuple, separated by commas: \")\n",
    "elements = user_input.split(',')\n",
    "tp = tuple(int(e.strip()) for e in elements)\n",
    "\n",
    "print(\"Sum is :\",sum(tp))"
   ]
  },
  {
   "cell_type": "code",
   "execution_count": 66,
   "id": "9d9774ef",
   "metadata": {},
   "outputs": [
    {
     "name": "stdout",
     "output_type": "stream",
     "text": [
      "Enter the elements of the tuple, separated by commas: 1,2,3\n",
      "Enter the elements of the tuple, separated by commas: 2,3,4\n",
      "1  %  2  =  1\n",
      "2  %  3  =  2\n",
      "3  %  4  =  3\n"
     ]
    }
   ],
   "source": [
    "### Modulo of tuple elements\n",
    "import sys\n",
    "\n",
    "user_input = input(\"Enter the elements of the tuple, separated by commas: \")\n",
    "elements = user_input.split(',')\n",
    "tp1 = tuple(int(e.strip()) for e in elements)\n",
    "user_input = input(\"Enter the elements of the tuple, separated by commas: \")\n",
    "elements = user_input.split(',')\n",
    "tp2 = tuple(int(e.strip()) for e in elements)\n",
    "if len(tp1)!=len(tp2):\n",
    "    print(\"Out of index\")\n",
    "    sys.exit(0)\n",
    "li=[]\n",
    "for i in range(len(tp1)):\n",
    "    li.append(tp1[i]%tp2[i])\n",
    "    print(tp1[i],\" % \",tp2[i],\" = \",li[i])\n"
   ]
  },
  {
   "cell_type": "markdown",
   "id": "cd0ecf5e",
   "metadata": {},
   "source": [
    "## Set"
   ]
  },
  {
   "cell_type": "code",
   "execution_count": 36,
   "id": "aad88f63",
   "metadata": {},
   "outputs": [
    {
     "name": "stdout",
     "output_type": "stream",
     "text": [
      "{False, True, 2, 3, 'apple', 'banana', 'cherry'}\n",
      "False\n",
      "True\n",
      "2\n",
      "3\n",
      "apple\n",
      "banana\n",
      "cherry\n",
      "Is banana in the set ?  True\n",
      "{False, True, 2, 3, 'orange', 'apple', 'banana', 'cherry'}\n",
      "{False, True, 2, 3, 'papaya', 'pineapple', 'cherry', 'orange', 'mango', 'apple', 'banana'}\n",
      "{False, True, 2, 3, 'papaya', 'pineapple', 'kiwi', 'cherry', 'orange', 'mango', 'apple', 'banana'}\n",
      "{False, True, 2, 3, 'papaya', 'pineapple', 'kiwi', 'cherry', 'orange', 'mango', 'apple'}\n"
     ]
    }
   ],
   "source": [
    "thisset = {\"apple\", \"banana\", \"cherry\", False, True, 1,2,3,0}\n",
    "print(thisset)\n",
    "for x in thisset:\n",
    "    print(x)\n",
    "print(\"Is banana in the set ? \",\"banana\" in thisset)\n",
    "\n",
    "thisset.add(\"orange\")\n",
    "print(thisset)\n",
    "#To add items from another set into the current set, use the update() method\n",
    "tropical = {\"pineapple\", \"mango\", \"papaya\"}\n",
    "thisset.update(tropical)\n",
    "print(thisset)\n",
    "mylist = [\"kiwi\", \"orange\"]\n",
    "thisset.update(mylist)\n",
    "print(thisset)\n",
    "#to remove elements\n",
    "thisset.remove(\"banana\")\n",
    "print(thisset)"
   ]
  },
  {
   "cell_type": "code",
   "execution_count": 40,
   "id": "fc9ee9b3",
   "metadata": {},
   "outputs": [
    {
     "name": "stdout",
     "output_type": "stream",
     "text": [
      "{1, 2, 'b', 'c', 3, 'a'}\n",
      "{1, 2, 'b', 'c', 3, 'a'}\n",
      "{1, 2, 'c', 3, 'a', 'cherry', 'Elena', 'b', 'apple', 'bananas', 'John'}\n",
      "{1, 2, 'c', 3, 'a', 'cherry', 'Elena', 'b', 'apple', 'bananas', 'John'}\n"
     ]
    }
   ],
   "source": [
    "set1 = {\"a\", \"b\", \"c\"}\n",
    "set2 = {1, 2, 3}\n",
    "#UNION\n",
    "set3 = set1.union(set2)\n",
    "print(set3)\n",
    "set4 = set1 | set2\n",
    "print(set4)\n",
    "#MULTIPLE SET UNION\n",
    "set3 = {\"John\", \"Elena\"}\n",
    "set4 = {\"apple\", \"bananas\", \"cherry\"}\n",
    "myset = set1.union(set2, set3, set4)\n",
    "myset1 = set1 | set2 | set3 |set4\n",
    "print(myset)\n",
    "print(myset1)"
   ]
  },
  {
   "cell_type": "code",
   "execution_count": 42,
   "id": "ab53cac3",
   "metadata": {},
   "outputs": [
    {
     "name": "stdout",
     "output_type": "stream",
     "text": [
      "{'apple'}\n",
      "{'apple'}\n"
     ]
    }
   ],
   "source": [
    "#INTERSECTION\n",
    "set1 = {\"apple\", \"banana\", \"cherry\"}\n",
    "set2 = {\"google\", \"microsoft\", \"apple\"}\n",
    "\n",
    "set3 = set1.intersection(set2)\n",
    "print(set3)\n",
    "\n",
    "set4 = set1 & set2\n",
    "print(set4)"
   ]
  },
  {
   "cell_type": "code",
   "execution_count": 64,
   "id": "ea1654fb",
   "metadata": {},
   "outputs": [
    {
     "name": "stdout",
     "output_type": "stream",
     "text": [
      "{'banana', 'cherry'}\n",
      "{'cherry', 'microsoft', 'google', 'banana'}\n"
     ]
    }
   ],
   "source": [
    "#DIFFERENCE\n",
    "set1 = {\"apple\", \"banana\", \"cherry\"}\n",
    "set2 = {\"google\", \"microsoft\", \"apple\"}\n",
    "\n",
    "set3 = set1.difference(set2)\n",
    "\n",
    "print(set3)\n",
    "set3 = set1.symmetric_difference(set2)\n",
    "\n",
    "print(set3)"
   ]
  },
  {
   "cell_type": "markdown",
   "id": "6cc3f66f",
   "metadata": {},
   "source": [
    "##### Panagram\n",
    "A <u>pangram</u> is a sentence or phrase that contains every letter of the alphabet at least once. Pangrams are often used in testing typewriters, keyboards, and fonts because they include a wide variety of characters. The most famous example of a pangram in English is:\n",
    "\n",
    "<b>\"The quick brown fox jumps over the lazy dog.\"</b>"
   ]
  },
  {
   "cell_type": "code",
   "execution_count": 71,
   "id": "ed54fe5d",
   "metadata": {},
   "outputs": [
    {
     "name": "stdout",
     "output_type": "stream",
     "text": [
      "Enter a sentence: Pack my box with five dozen liquor jugs\n",
      "Yes, it's a pangram\n"
     ]
    }
   ],
   "source": [
    "#Check if string is panagram\n",
    "s = input(\"Enter a sentence: \").lower()\n",
    "alphabet_set = set('abcdefghijklmnopqrstuvwxyz')\n",
    "input_set = set(s)\n",
    "\n",
    "if alphabet_set.issubset(input_set):\n",
    "    print(\"Yes, it's a pangram\")\n",
    "else:\n",
    "    print(\"Not a pangram\")\n"
   ]
  },
  {
   "cell_type": "code",
   "execution_count": 78,
   "id": "412e2fa1",
   "metadata": {},
   "outputs": [
    {
     "name": "stdout",
     "output_type": "stream",
     "text": [
      "Education is important\n",
      "{'i', 'a', 'e', 'o', 'u'}\n",
      "Yes\n"
     ]
    }
   ],
   "source": [
    "#accept string that contains all vowels\n",
    "v=set('aeiou')\n",
    "s=input().lower()\n",
    "set1=set(s)\n",
    "f=set1.intersection(v)\n",
    "print(f)\n",
    "if f==v:\n",
    "    print(\"Yes\")\n",
    "else:\n",
    "    print(\"No\")"
   ]
  },
  {
   "cell_type": "code",
   "execution_count": 81,
   "id": "3cbb5631",
   "metadata": {},
   "outputs": [
    {
     "name": "stdout",
     "output_type": "stream",
     "text": [
      "101001\n",
      "Yes\n"
     ]
    }
   ],
   "source": [
    "#check if given string is binary string or not\n",
    "s=input()\n",
    "set1=set(s)\n",
    "b={'1','0'}\n",
    "if set1==b:\n",
    "    print(\"Yes\")\n",
    "else:\n",
    "    print(\"No\")"
   ]
  },
  {
   "cell_type": "code",
   "execution_count": 82,
   "id": "3b6b09a2",
   "metadata": {},
   "outputs": [
    {
     "name": "stdout",
     "output_type": "stream",
     "text": [
      "aeiouaeiou\n",
      "10\n"
     ]
    }
   ],
   "source": [
    "#count number of vowels in string using set\n",
    "s=input()\n",
    "b={'a','e','i','o','u'}\n",
    "c=0\n",
    "for i in range(len(s)):\n",
    "    if s[i] in b:\n",
    "        c+=1\n",
    "print(c)"
   ]
  },
  {
   "cell_type": "code",
   "execution_count": 87,
   "id": "bf06ab9c",
   "metadata": {},
   "outputs": [
    {
     "name": "stdout",
     "output_type": "stream",
     "text": [
      "Enter string1: happy\n",
      "Enter string2: yippy\n",
      "Uncommon characters are :  h i a\n"
     ]
    }
   ],
   "source": [
    "#Concatenated string with uncommon characters \n",
    "s1=set(input(\"Enter string1: \").lower())\n",
    "s2=set(input(\"Enter string2: \").lower())\n",
    "u1=s1-s2\n",
    "u2=s2-s1\n",
    "s3=u1|u2\n",
    "print(\"Uncommon characters are : \",end=\" \")\n",
    "print(\" \".join(s3))"
   ]
  },
  {
   "cell_type": "code",
   "execution_count": 90,
   "id": "ff7055fb",
   "metadata": {},
   "outputs": [
    {
     "name": "stdout",
     "output_type": "stream",
     "text": [
      "Enter list :1 2 3 4\n",
      "Enter list :2 5 6 7\n",
      "yes\n"
     ]
    }
   ],
   "source": [
    "#list have atleast one element in common\n",
    "l1=list(map(int,input(\"Enter list :\").split()))\n",
    "l2=list(map(int,input(\"Enter list :\").split()))\n",
    "s1=set(l1)\n",
    "s2=set(l2)\n",
    "s3=s1 & s2\n",
    "if len(s3)!=0:\n",
    "    print(\"yes\")\n",
    "else:\n",
    "    print(\"No\")\n",
    "    "
   ]
  },
  {
   "cell_type": "markdown",
   "id": "9c2e97b3",
   "metadata": {},
   "source": [
    "## Dictionary"
   ]
  },
  {
   "cell_type": "code",
   "execution_count": 93,
   "id": "497d85f4",
   "metadata": {},
   "outputs": [
    {
     "name": "stdout",
     "output_type": "stream",
     "text": [
      "Mustang\n",
      "Mustang\n",
      "dict_keys(['brand', 'model', 'year'])\n",
      "dict_keys(['brand', 'model', 'year', 'color'])\n",
      "dict_values(['Ford', 'Mustang', 1964, 'white'])\n",
      "{'brand': 'Ford', 'model': 'Mustang', 'year': 1964, 'color': 'red'}\n",
      "{'brand': 'Ford', 'year': 1964, 'color': 'red'}\n",
      "{'brand': 'Ford', 'year': 1964}\n"
     ]
    }
   ],
   "source": [
    "thisdict = {\n",
    "  \"brand\": \"Ford\",\n",
    "  \"model\": \"Mustang\",\n",
    "  \"year\": 1964\n",
    "}\n",
    "x = thisdict[\"model\"]\n",
    "print(x)\n",
    "x = thisdict.get(\"model\")\n",
    "print(x)\n",
    "x = thisdict.keys()\n",
    "print(x)\n",
    "thisdict[\"color\"] = \"white\"\n",
    "print(x)\n",
    "x = thisdict.values()\n",
    "print(x)\n",
    "#update\n",
    "thisdict.update({\"color\": \"red\"})\n",
    "print(thisdict)\n",
    "#remove\n",
    "thisdict.pop(\"model\")\n",
    "print(thisdict)\n",
    "del thisdict[\"color\"]\n",
    "print(thisdict)\n"
   ]
  },
  {
   "cell_type": "code",
   "execution_count": 96,
   "id": "7ed127f7",
   "metadata": {},
   "outputs": [
    {
     "name": "stdout",
     "output_type": "stream",
     "text": [
      "brand Ford\n",
      "year 1964\n",
      "{'brand': 'Ford', 'year': 1964}\n"
     ]
    }
   ],
   "source": [
    "#loop\n",
    "for x, y in thisdict.items():\n",
    "  print(x, y)\n",
    "\n",
    "#copy\n",
    "mydict = thisdict.copy()\n",
    "print(mydict)"
   ]
  },
  {
   "cell_type": "code",
   "execution_count": 97,
   "id": "596a6195",
   "metadata": {},
   "outputs": [
    {
     "name": "stdout",
     "output_type": "stream",
     "text": [
      "Enter key (or type 'exit' to finish): hello\n",
      "Enter value: world\n",
      "Enter key (or type 'exit' to finish): paris\n",
      "Enter value: france\n",
      "Enter key (or type 'exit' to finish): tokyo\n",
      "Enter value: japan\n",
      "Enter key (or type 'exit' to finish): seoul\n",
      "Enter value: south korea\n",
      "Enter key (or type 'exit' to finish): delhi\n",
      "Enter value: india\n",
      "Enter key (or type 'exit' to finish): exit\n",
      "User dictionary: {'hello': 'world', 'paris': 'france', 'tokyo': 'japan', 'seoul': 'south korea', 'delhi': 'india'}\n"
     ]
    }
   ],
   "source": [
    "def get_user_input():\n",
    "    user_dict = {}\n",
    "    \n",
    "    while True:\n",
    "        key = input(\"Enter key (or type 'exit' to finish): \")\n",
    "        if key.lower() == 'exit':\n",
    "            break\n",
    "        value = input(\"Enter value: \")\n",
    "        user_dict[key] = value\n",
    "    \n",
    "    return user_dict\n",
    "\n",
    "\n",
    "user_dict = get_user_input()\n",
    "print(\"User dictionary:\", user_dict)\n"
   ]
  },
  {
   "cell_type": "code",
   "execution_count": 138,
   "id": "33701c6b",
   "metadata": {},
   "outputs": [
    {
     "name": "stdout",
     "output_type": "stream",
     "text": [
      "Enter string: happy happy happy tin tin tin tin tin tin\n",
      "Enter k: 3\n",
      "happy\n"
     ]
    }
   ],
   "source": [
    "#k most frequent word \n",
    "s = input(\"Enter string: \").split()\n",
    "k = int(input(\"Enter k: \"))\n",
    "d = {}\n",
    "\n",
    "# Count the frequency of each word in the input string\n",
    "for word in s:\n",
    "    if word not in d:\n",
    "        d[word] = 1\n",
    "    else:\n",
    "        d[word] += 1\n",
    "\n",
    "# Find the k most frequent words\n",
    "frequent_words = []\n",
    "for word, frequency in d.items():\n",
    "    if frequency == k:\n",
    "        frequent_words.append(word)\n",
    "\n",
    "# Print the k most frequent words\n",
    "for word in frequent_words:\n",
    "    print(word)\n"
   ]
  },
  {
   "cell_type": "markdown",
   "id": "e33a4850",
   "metadata": {},
   "source": [
    "## String"
   ]
  },
  {
   "cell_type": "code",
   "execution_count": 111,
   "id": "6f861eeb",
   "metadata": {},
   "outputs": [
    {
     "name": "stdout",
     "output_type": "stream",
     "text": [
      "Minimum length :8 \n",
      "Should have one capital letter , one special character and one number\n",
      "Enter password: #Qw1234er\n",
      "Valid password\n"
     ]
    }
   ],
   "source": [
    "print(\"Minimum length :8 \\nShould have one capital letter , one special character and one number\")\n",
    "s = input(\"Enter password: \")\n",
    "if len(s) >= 8:\n",
    "    cap_found = False\n",
    "    num_found = False\n",
    "    lower_found = False\n",
    "    special_found = False\n",
    "    for i in range(8):\n",
    "        if 65 <= ord(s[i]) <= 90:\n",
    "            cap_found = True\n",
    "        elif s[i].isdigit(): \n",
    "            num_found = True\n",
    "        elif s[i].islower():\n",
    "            lower_found = True\n",
    "        elif not s[i].isalnum():\n",
    "            special_found = True\n",
    "    if cap_found and num_found and lower_found and special_found:\n",
    "        print(\"Valid password\")\n",
    "    else:\n",
    "        print(\"Invalid password\")\n",
    "else:\n",
    "    print(\"Invalid password\")\n"
   ]
  },
  {
   "cell_type": "code",
   "execution_count": 130,
   "id": "a8f2c5a2",
   "metadata": {},
   "outputs": [
    {
     "name": "stdout",
     "output_type": "stream",
     "text": [
      "http://www.uurl.com\n",
      "True\n"
     ]
    }
   ],
   "source": [
    "#Check for url in a string\n",
    "import re\n",
    "\n",
    "def contains_url(text):\n",
    "    pattern = r'http[s]?://(?:[a-zA-Z]|[0-9]|[$-_@.&+]|[!*\\\\(\\\\),]|(?:%[0-9a-fA-F][0-9a-fA-F]))+'\n",
    "    match = re.search(pattern, text)\n",
    "    return match is not None\n",
    "\n",
    "\n",
    "text1 =input()\n",
    "print(contains_url(text1)) \n"
   ]
  },
  {
   "cell_type": "code",
   "execution_count": 121,
   "id": "8bdbd588",
   "metadata": {},
   "outputs": [
    {
     "name": "stdout",
     "output_type": "stream",
     "text": [
      "Enter string:happy\n",
      "Enter Substring:work\n",
      "Substring not found\n"
     ]
    }
   ],
   "source": [
    "#check for substringis present in a given string\n",
    "s=input(\"Enter string:\")\n",
    "sub=input(\"Enter Substring:\")\n",
    "c=0\n",
    "for i in range(len(s)):\n",
    "    for j in range(len(sub)):\n",
    "        if s[i]==sub[j]:\n",
    "            count+=1\n",
    "        else:\n",
    "            break\n",
    "    if count==len(sub):\n",
    "        print(\"Substring found\")\n",
    "        c=1\n",
    "        break\n",
    "if c!=1:\n",
    "    print(\"Substring not found\")\n",
    "            "
   ]
  },
  {
   "cell_type": "markdown",
   "id": "48e1aa86",
   "metadata": {},
   "source": [
    "An <u><b>anagram</b></u> is a word or phrase formed by rearranging the letters of another word or phrase."
   ]
  },
  {
   "cell_type": "code",
   "execution_count": 127,
   "id": "3bf33c2d",
   "metadata": {},
   "outputs": [
    {
     "name": "stdout",
     "output_type": "stream",
     "text": [
      "Enter the first string: abcd\n",
      "Enter the second string: dcab\n",
      "Is anagram\n"
     ]
    }
   ],
   "source": [
    "#check if 2 strings are anagrams or not\n",
    "s1=input(\"Enter the first string: \").lower()\n",
    "s2=input(\"Enter the second string: \").lower()\n",
    "set1=set(s1)\n",
    "set2=set(s2)\n",
    "s3=set1.symmetric_difference(set2)\n",
    "if not s3:\n",
    "    print(\"Is anagram\")\n",
    "else:\n",
    "    print(\"Not anagram\")"
   ]
  },
  {
   "cell_type": "code",
   "execution_count": 143,
   "id": "d7b276f4",
   "metadata": {},
   "outputs": [
    {
     "name": "stdout",
     "output_type": "stream",
     "text": [
      "Enter string: Happy Happy tin \n",
      "Total ASCII sum: 1455\n"
     ]
    }
   ],
   "source": [
    "#map funcion and dictionary in python to sum ascii values\n",
    "def char_to_ascii(char):\n",
    "    return ord(char)\n",
    "\n",
    "input_string = input(\"Enter string: \")\n",
    "ascii_values = map(char_to_ascii, input_string)\n",
    "total_ascii_sum = sum(ascii_values)\n",
    "print(\"Total ASCII sum:\", total_ascii_sum)"
   ]
  },
  {
   "cell_type": "code",
   "execution_count": 147,
   "id": "f3c9f2dd",
   "metadata": {},
   "outputs": [
    {
     "name": "stdout",
     "output_type": "stream",
     "text": [
      "Enter full name: Anagha Rao\n",
      "A. Rao\n"
     ]
    }
   ],
   "source": [
    "#print initials of a name with last name in full\n",
    "full_name = input(\"Enter full name: \")\n",
    "words = full_name.split()\n",
    "\n",
    "for i in range(len(words)):\n",
    "    if i == len(words) - 1:\n",
    "        print(words[i])  \n",
    "    else:\n",
    "        print(words[i][0].upper() + \".\", end=\" \")  "
   ]
  },
  {
   "cell_type": "markdown",
   "id": "6cf36f0a",
   "metadata": {},
   "source": [
    "### Excpetion Handling"
   ]
  },
  {
   "cell_type": "code",
   "execution_count": 154,
   "id": "5595bfdb",
   "metadata": {},
   "outputs": [
    {
     "name": "stdout",
     "output_type": "stream",
     "text": [
      "Can't divide by zero\n",
      "This is always executed\n"
     ]
    }
   ],
   "source": [
    "try:\n",
    "\tk = 5//0\n",
    "\tprint(k)\n",
    "\n",
    "except ZeroDivisionError:\n",
    "\tprint(\"Can't divide by zero\")\n",
    "else:\n",
    "    print(k,\" caused no error\")\n",
    "\n",
    "finally:\n",
    "\tprint('This is always executed')\n"
   ]
  },
  {
   "cell_type": "code",
   "execution_count": 156,
   "id": "51a8c979",
   "metadata": {},
   "outputs": [
    {
     "name": "stdout",
     "output_type": "stream",
     "text": [
      "['ArithmeticError', 'AssertionError', 'AttributeError', 'BaseException', 'BlockingIOError', 'BrokenPipeError', 'BufferError', 'BytesWarning', 'ChildProcessError', 'ConnectionAbortedError', 'ConnectionError', 'ConnectionRefusedError', 'ConnectionResetError', 'DeprecationWarning', 'EOFError', 'Ellipsis', 'EncodingWarning', 'EnvironmentError', 'Exception', 'False', 'FileExistsError', 'FileNotFoundError', 'FloatingPointError', 'FutureWarning', 'GeneratorExit', 'IOError', 'ImportError', 'ImportWarning', 'IndentationError', 'IndexError', 'InterruptedError', 'IsADirectoryError', 'KeyError', 'KeyboardInterrupt', 'LookupError', 'MemoryError', 'ModuleNotFoundError', 'NameError', 'None', 'NotADirectoryError', 'NotImplemented', 'NotImplementedError', 'OSError', 'OverflowError', 'PendingDeprecationWarning', 'PermissionError', 'ProcessLookupError', 'RecursionError', 'ReferenceError', 'ResourceWarning', 'RuntimeError', 'RuntimeWarning', 'StopAsyncIteration', 'StopIteration', 'SyntaxError', 'SyntaxWarning', 'SystemError', 'SystemExit', 'TabError', 'TimeoutError', 'True', 'TypeError', 'UnboundLocalError', 'UnicodeDecodeError', 'UnicodeEncodeError', 'UnicodeError', 'UnicodeTranslateError', 'UnicodeWarning', 'UserWarning', 'ValueError', 'Warning', 'WindowsError', 'ZeroDivisionError', '__IPYTHON__', '__build_class__', '__debug__', '__doc__', '__import__', '__loader__', '__name__', '__package__', '__spec__', 'abs', 'aiter', 'all', 'anext', 'any', 'ascii', 'bin', 'bool', 'breakpoint', 'bytearray', 'bytes', 'callable', 'chr', 'classmethod', 'compile', 'complex', 'copyright', 'credits', 'delattr', 'dict', 'dir', 'display', 'divmod', 'enumerate', 'eval', 'exec', 'execfile', 'filter', 'float', 'format', 'frozenset', 'get_ipython', 'getattr', 'globals', 'hasattr', 'hash', 'help', 'hex', 'id', 'input', 'int', 'isinstance', 'issubclass', 'iter', 'len', 'license', 'list', 'locals', 'map', 'max', 'memoryview', 'min', 'next', 'object', 'oct', 'open', 'ord', 'pow', 'print', 'property', 'range', 'repr', 'reversed', 'round', 'runfile', 'set', 'setattr', 'slice', 'sorted', 'staticmethod', 'str', 'sum', 'super', 'tuple', 'type', 'vars', 'zip']\n"
     ]
    },
    {
     "data": {
      "text/plain": [
       "73"
      ]
     },
     "execution_count": 156,
     "metadata": {},
     "output_type": "execute_result"
    }
   ],
   "source": [
    "print(dir(locals()[\"__builtins__\"]))\n",
    "l=['ArithmeticError', 'AssertionError', 'AttributeError', 'BaseException', 'BlockingIOError', 'BrokenPipeError', 'BufferError', 'BytesWarning', 'ChildProcessError', 'ConnectionAbortedError', 'ConnectionError', 'ConnectionRefusedError', 'ConnectionResetError', 'DeprecationWarning', 'EOFError', 'Ellipsis', 'EncodingWarning', \n",
    "   'EnvironmentError', 'Exception', 'False', 'FileExistsError', 'FileNotFoundError', 'FloatingPointError', 'FutureWarning', 'GeneratorExit', 'IOError', 'ImportError', 'ImportWarning', 'IndentationError', 'IndexError', 'InterruptedError', 'IsADirectoryError', 'KeyError', 'KeyboardInterrupt', 'LookupError', 'MemoryError', \n",
    "   'ModuleNotFoundError', 'NameError', 'None', 'NotADirectoryError', 'NotImplemented', 'NotImplementedError', 'OSError', 'OverflowError', 'PendingDeprecationWarning', 'PermissionError', 'ProcessLookupError', 'RecursionError', 'ReferenceError', 'ResourceWarning', 'RuntimeError', 'RuntimeWarning', 'StopAsyncIteration', \n",
    "   'StopIteration', 'SyntaxError', 'SyntaxWarning', 'SystemError', 'SystemExit', 'TabError', 'TimeoutError', 'True', 'TypeError', 'UnboundLocalError', 'UnicodeDecodeError', 'UnicodeEncodeError', 'UnicodeError', 'UnicodeTranslateError', 'UnicodeWarning', 'UserWarning', 'ValueError', 'Warning', 'WindowsError',\n",
    "   'ZeroDivisionError']\n",
    "len(l)"
   ]
  },
  {
   "cell_type": "code",
   "execution_count": 158,
   "id": "81683d1a",
   "metadata": {},
   "outputs": [
    {
     "name": "stdout",
     "output_type": "stream",
     "text": [
      "Help on class Exception in module builtins:\n",
      "\n",
      "class Exception(BaseException)\n",
      " |  Common base class for all non-exit exceptions.\n",
      " |  \n",
      " |  Method resolution order:\n",
      " |      Exception\n",
      " |      BaseException\n",
      " |      object\n",
      " |  \n",
      " |  Built-in subclasses:\n",
      " |      ArithmeticError\n",
      " |      AssertionError\n",
      " |      AttributeError\n",
      " |      BufferError\n",
      " |      ... and 15 other subclasses\n",
      " |  \n",
      " |  Methods defined here:\n",
      " |  \n",
      " |  __init__(self, /, *args, **kwargs)\n",
      " |      Initialize self.  See help(type(self)) for accurate signature.\n",
      " |  \n",
      " |  ----------------------------------------------------------------------\n",
      " |  Static methods defined here:\n",
      " |  \n",
      " |  __new__(*args, **kwargs) from builtins.type\n",
      " |      Create and return a new object.  See help(type) for accurate signature.\n",
      " |  \n",
      " |  ----------------------------------------------------------------------\n",
      " |  Methods inherited from BaseException:\n",
      " |  \n",
      " |  __delattr__(self, name, /)\n",
      " |      Implement delattr(self, name).\n",
      " |  \n",
      " |  __getattribute__(self, name, /)\n",
      " |      Return getattr(self, name).\n",
      " |  \n",
      " |  __reduce__(...)\n",
      " |      Helper for pickle.\n",
      " |  \n",
      " |  __repr__(self, /)\n",
      " |      Return repr(self).\n",
      " |  \n",
      " |  __setattr__(self, name, value, /)\n",
      " |      Implement setattr(self, name, value).\n",
      " |  \n",
      " |  __setstate__(...)\n",
      " |  \n",
      " |  __str__(self, /)\n",
      " |      Return str(self).\n",
      " |  \n",
      " |  with_traceback(...)\n",
      " |      Exception.with_traceback(tb) --\n",
      " |      set self.__traceback__ to tb and return self.\n",
      " |  \n",
      " |  ----------------------------------------------------------------------\n",
      " |  Data descriptors inherited from BaseException:\n",
      " |  \n",
      " |  __cause__\n",
      " |      exception cause\n",
      " |  \n",
      " |  __context__\n",
      " |      exception context\n",
      " |  \n",
      " |  __dict__\n",
      " |  \n",
      " |  __suppress_context__\n",
      " |  \n",
      " |  __traceback__\n",
      " |  \n",
      " |  args\n",
      "\n"
     ]
    }
   ],
   "source": [
    "help(Exception)"
   ]
  },
  {
   "cell_type": "markdown",
   "id": "53ee45fc",
   "metadata": {},
   "source": [
    "#### User Defined Exception"
   ]
  },
  {
   "cell_type": "code",
   "execution_count": 165,
   "id": "19b2d355",
   "metadata": {},
   "outputs": [
    {
     "name": "stdout",
     "output_type": "stream",
     "text": [
      "Enter a number between 1 and 10: 12\n",
      "Error: Value must be between 1 and 10\n"
     ]
    }
   ],
   "source": [
    "#Define a custom exception class\n",
    "class ValueOutOfRangeError(Exception):\n",
    "    def __init__(self, message=\"Value must be between 1 and 10\"):\n",
    "        self.message = message\n",
    "        super().__init__(self.message)\n",
    "\n",
    "\n",
    "try:\n",
    "    value = int(input(\"Enter a number between 1 and 10: \"))\n",
    "    if value < 1 or value > 10:\n",
    "        raise ValueOutOfRangeError()\n",
    "    print(f\"Entered value is {value}, which is within the range.\")\n",
    "except ValueOutOfRangeError as e:\n",
    "    print(f\"Error: {e.message}\")\n",
    "except:\n",
    "    print(\"Invalid input. Please enter an integer.\")\n",
    "\n",
    "\n"
   ]
  },
  {
   "cell_type": "code",
   "execution_count": 170,
   "id": "8fce1e74",
   "metadata": {},
   "outputs": [
    {
     "name": "stdout",
     "output_type": "stream",
     "text": [
      "Enter :1 2 3 4 5\n",
      "1\n",
      "2\n",
      "3\n",
      "4\n",
      "5\n",
      "OUT OF INDEX ERROR\n"
     ]
    }
   ],
   "source": [
    "#handle indexError exception for a list\n",
    "li=list(map(int,input(\"Enter :\").split()))\n",
    "try:\n",
    "    for i in range(len(li)+2):\n",
    "        print(li[i])\n",
    "except:\n",
    "    print(\"OUT OF INDEX ERROR\")"
   ]
  },
  {
   "cell_type": "code",
   "execution_count": 177,
   "id": "7f369a0e",
   "metadata": {
    "scrolled": false
   },
   "outputs": [
    {
     "name": "stdout",
     "output_type": "stream",
     "text": [
      "The triplet with the minimum difference is: [3, 4, 7, 9, 9]\n",
      "The minimum difference is: 6\n"
     ]
    }
   ],
   "source": [
    "##Chocolate distribution program\n",
    "#pick 3 numbers such that the difference btwn the max and min is min\n",
    "li = [3,4,1,9,56,7,9,12]\n",
    "m = 5\n",
    "\n",
    "# Sort the list\n",
    "li.sort()\n",
    "# Initialize the minimum difference to a large number\n",
    "min_diff = float('inf')\n",
    "result_triplet = []\n",
    "# Iterate through the list to find the triplet with the minimum difference\n",
    "for i in range(len(li) - m + 1):\n",
    "    current_diff = li[i + m - 1] - li[i]\n",
    "    if current_diff < min_diff:\n",
    "        min_diff = current_diff\n",
    "        result_triplet = li[i:i + m]\n",
    "\n",
    "print(f\"The triplet with the minimum difference is: {result_triplet}\")\n",
    "print(f\"The minimum difference is: {min_diff}\")"
   ]
  },
  {
   "cell_type": "code",
   "execution_count": 204,
   "id": "037077a5",
   "metadata": {},
   "outputs": [
    {
     "name": "stdout",
     "output_type": "stream",
     "text": [
      "[23, 235]\n"
     ]
    }
   ],
   "source": [
    "# Extract only numbers from list which have certain digits\n",
    "li = [3456, 23, 128, 235, 982]\n",
    "d = [2, 3, 5, 4]\n",
    "d_set = set(map(str, d))\n",
    "res=[]\n",
    "\n",
    "for number in li:\n",
    "    number_set = set(str(number))\n",
    "    if number_set.issubset(d_set):\n",
    "        res.append(number)\n",
    "print(res)"
   ]
  },
  {
   "cell_type": "code",
   "execution_count": 205,
   "id": "d2371b64",
   "metadata": {},
   "outputs": [
    {
     "name": "stdout",
     "output_type": "stream",
     "text": [
      "[2, 4, 6, 8]\n",
      "[1, 2, 3, 4, 5, 6, 7, 8]\n",
      "{1: 4, 2: 4, 3: 1, 4: 2, 5: 0, 6: 1, 7: 0, 8: 1}\n"
     ]
    }
   ],
   "source": [
    "### Factor frequency dictionary\n",
    "li = [2, 4, 6, 8]\n",
    "n = max(li)\n",
    "d = {}\n",
    "l = []\n",
    "\n",
    "# Create a list of numbers from 1 to n\n",
    "for i in range(1, n + 1):\n",
    "    l.append(i)\n",
    "print(li)\n",
    "print(l)\n",
    "\n",
    "# Count the factors\n",
    "for num in li:\n",
    "    for factor in l:\n",
    "        if num % factor == 0:\n",
    "            if factor not in d:\n",
    "                d[factor] = 1\n",
    "            else:\n",
    "                d[factor] += 1\n",
    "        elif factor not in d:\n",
    "            d[factor]=0\n",
    "\n",
    "print(d)"
   ]
  },
  {
   "cell_type": "code",
   "execution_count": 221,
   "id": "67be2d83",
   "metadata": {},
   "outputs": [
    {
     "name": "stdout",
     "output_type": "stream",
     "text": [
      "Enter Number of people: 4\n",
      "Enter the number of items:11\n",
      "1 : 1\n",
      "2 : 3\n",
      "3 : 6\n",
      "4 : 10\n",
      "After Round 1  : 1\n",
      "1 : 1\n",
      "After Round 2  : 0\n"
     ]
    }
   ],
   "source": [
    "# distribution\n",
    "p=int(input(\"Enter Number of people: \"))\n",
    "n=int(input(\"Enter the number of items:\"))\n",
    "c=0\n",
    "while n>0:\n",
    "    k=0\n",
    "    c+=1\n",
    "    for i in range(p):\n",
    "        k=k+i+1\n",
    "        print(i+1,\":\",k)\n",
    "        if n-k<=0:\n",
    "            break\n",
    "    n=n-k\n",
    "    print(\"After Round\",c,\" :\",n)\n",
    "    "
   ]
  }
 ],
 "metadata": {
  "kernelspec": {
   "display_name": "Python 3 (ipykernel)",
   "language": "python",
   "name": "python3"
  },
  "language_info": {
   "codemirror_mode": {
    "name": "ipython",
    "version": 3
   },
   "file_extension": ".py",
   "mimetype": "text/x-python",
   "name": "python",
   "nbconvert_exporter": "python",
   "pygments_lexer": "ipython3",
   "version": "3.10.9"
  }
 },
 "nbformat": 4,
 "nbformat_minor": 5
}

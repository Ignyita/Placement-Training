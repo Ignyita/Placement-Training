{
 "cells": [
  {
   "cell_type": "markdown",
   "id": "f54b4303",
   "metadata": {},
   "source": [
    "# Functions"
   ]
  },
  {
   "cell_type": "markdown",
   "id": "75d01397",
   "metadata": {},
   "source": [
    "#### Theory Concepts:\n",
    "- "
   ]
  },
  {
   "cell_type": "code",
   "execution_count": 5,
   "id": "4bffd953",
   "metadata": {},
   "outputs": [
    {
     "name": "stdout",
     "output_type": "stream",
     "text": [
      " Hello\n",
      "Good Morning! Have a good day\n"
     ]
    }
   ],
   "source": [
    "def greet():\n",
    "    print(\"Good Morning! Have a good day\")\n",
    "print(\" Hello\")\n",
    "greet()"
   ]
  },
  {
   "cell_type": "code",
   "execution_count": 10,
   "id": "bdeabeb4",
   "metadata": {},
   "outputs": [
    {
     "data": {
      "text/plain": [
       "15"
      ]
     },
     "execution_count": 10,
     "metadata": {},
     "output_type": "execute_result"
    }
   ],
   "source": [
    "def summ(*num):\n",
    "    res=0\n",
    "    for i in num:\n",
    "        res=res+i\n",
    "    return res\n",
    "#num=tuple(map(int,input().split()))\n",
    "summ(1,2,3,4,5)"
   ]
  },
  {
   "cell_type": "code",
   "execution_count": 14,
   "id": "0de84f4a",
   "metadata": {},
   "outputs": [
    {
     "name": "stdout",
     "output_type": "stream",
     "text": [
      "Local\n",
      "Non Local\n",
      "Non Local  we could access this by using the keyword- nonlocal\n"
     ]
    }
   ],
   "source": [
    "#nonlocal keyword\n",
    "def outer():\n",
    "    msg=\"Local\"\n",
    "    print(msg)\n",
    "    def inner():\n",
    "        nonlocal msg\n",
    "        msg=\"Non Local\"\n",
    "        print(msg)\n",
    "    inner()\n",
    "    print(msg,\" we could access this by using the keyword- nonlocal\")\n",
    "outer()"
   ]
  },
  {
   "cell_type": "code",
   "execution_count": 16,
   "id": "a96ee50d",
   "metadata": {},
   "outputs": [
    {
     "name": "stdout",
     "output_type": "stream",
     "text": [
      "3\n"
     ]
    }
   ],
   "source": [
    "#global keyword\n",
    "c=1\n",
    "def add():\n",
    "    global c\n",
    "    c+=2\n",
    "    print(c)\n",
    "add()"
   ]
  },
  {
   "cell_type": "code",
   "execution_count": 21,
   "id": "2f6892a8",
   "metadata": {},
   "outputs": [
    {
     "name": "stdout",
     "output_type": "stream",
     "text": [
      "[1, 1, 2, 3, 5, 8, 13, 21, 34]\n"
     ]
    }
   ],
   "source": [
    "def fib(x):\n",
    "    li=[1,1]\n",
    "    i=2\n",
    "    while len(li)!=x:\n",
    "        li.append(li[i-1]+li[i-2])\n",
    "        i+=1\n",
    "    return li\n",
    "li=fib(9)\n",
    "print(li)\n",
    "    "
   ]
  },
  {
   "cell_type": "code",
   "execution_count": 31,
   "id": "0e04350f",
   "metadata": {},
   "outputs": [
    {
     "name": "stdout",
     "output_type": "stream",
     "text": [
      "Enter a Roman numeral: CMXCIV\n",
      "The integer value is: 994\n"
     ]
    }
   ],
   "source": [
    "ri = {\n",
    "    \"I\": 1,\n",
    "    \"V\": 5,\n",
    "    \"X\": 10,\n",
    "    \"L\": 50,\n",
    "    \"C\": 100,\n",
    "    \"D\": 500,\n",
    "    \"M\": 1000,\n",
    "    \"IV\": 4,\n",
    "    \"IX\": 9,\n",
    "    \"XL\": 40,\n",
    "    \"XC\": 90,\n",
    "    \"CD\": 400,\n",
    "    \"CM\": 900\n",
    "}\n",
    "\n",
    "s = input(\"Enter a Roman numeral: \")\n",
    "summ = 0\n",
    "i = 0\n",
    "\n",
    "while i < len(s):\n",
    "    if i + 1 < len(s) and s[i:i+2] in ri:\n",
    "        summ += ri[s[i:i+2]]\n",
    "        i += 2\n",
    "    else:\n",
    "        summ += ri[s[i]]\n",
    "        i += 1\n",
    "\n",
    "print(\"The integer value is:\", summ)"
   ]
  },
  {
   "cell_type": "markdown",
   "id": "917b0cdc",
   "metadata": {},
   "source": [
    "#### CLASSIC ANCIENT CHINESE PUZZLE: "
   ]
  },
  {
   "cell_type": "code",
   "execution_count": 36,
   "id": "89faa874",
   "metadata": {},
   "outputs": [
    {
     "name": "stdout",
     "output_type": "stream",
     "text": [
      "Enter the total number of heads: 35\n",
      "Enter the total number of legs: 94\n",
      "Number of chickens: 0\n",
      "Number of rabbits: 0\n"
     ]
    }
   ],
   "source": [
    "#we count 35 heads and 94 legs among the chickens and rabbits in a farm \n",
    "#how many rabbits and chickens are there ?\n",
    "\n",
    "total_heads = int(input(\"Enter the total number of heads: \"))\n",
    "total_legs = int(input(\"Enter the total number of legs: \"))\n",
    "\n",
    "chickens = 0\n",
    "rabbits = 0\n",
    "\n",
    "for chicken_count in range(total_heads + 1):\n",
    "    rabbit_count = total_heads - chicken_count\n",
    "    total_legs_calculated = 2 * chicken_count + 4 * rabbit_count\n",
    "    \n",
    "    if total_legs_calculated == total_legs:\n",
    "        chickens = chicken_count\n",
    "        rabbits = rabbit_count\n",
    "        break\n",
    "\n",
    "print(\"Number of chickens:\", chickens)\n",
    "print(\"Number of rabbits:\", rabbits)\n",
    "\n",
    "    \n"
   ]
  },
  {
   "cell_type": "code",
   "execution_count": 38,
   "id": "5cc43784",
   "metadata": {},
   "outputs": [
    {
     "name": "stdout",
     "output_type": "stream",
     "text": [
      "Enter :Happy\n",
      "yppaH\n"
     ]
    }
   ],
   "source": [
    "#reverse a string using slicing\n",
    "s=input(\"Enter :\" )\n",
    "print(s[::-1])"
   ]
  },
  {
   "cell_type": "code",
   "execution_count": 40,
   "id": "80ffac4d",
   "metadata": {},
   "outputs": [
    {
     "name": "stdout",
     "output_type": "stream",
     "text": [
      "Up, down,left,right:  5 3 2 2 \n",
      "euclidian distance travelled:  2.0\n"
     ]
    }
   ],
   "source": [
    "\"\"\"\n",
    "A robot moves in a plane starting from the original point (0,0)\n",
    "The robot can move up, down , left and right with a given steps\n",
    "up 5\n",
    "down 3\n",
    "left 3\n",
    "right 2\n",
    "program to compute the distance from current position after a sequence of movement and original point\n",
    "\"\"\"\n",
    "import math\n",
    "up,down,left,right=map(int,input(\"Up, down,left,right:  \").split())\n",
    "v=(up-down)**2\n",
    "h=(left-right)**2\n",
    "i=v+h\n",
    "res=math.sqrt(i)\n",
    "print(\"euclidian distance travelled: \",res)\n"
   ]
  },
  {
   "cell_type": "code",
   "execution_count": 47,
   "id": "a3ccd1d2",
   "metadata": {},
   "outputs": [
    {
     "name": "stdout",
     "output_type": "stream",
     "text": [
      "Bought at 100, Sold at 310, Profit = 210, Total Profit = 210\n",
      "Bought at 210, Sold at 210, Profit = 0, Total Profit = 210\n",
      "Bought at 40, Sold at 695, Profit = 655, Total Profit = 865\n",
      "Bought at 538, Sold at 538, Profit = 0, Total Profit = 865\n",
      "Maximum profit: 865\n"
     ]
    }
   ],
   "source": [
    "def max_profit(prices):\n",
    "    if not prices:\n",
    "        return 0\n",
    "    \n",
    "    max_profit = 0\n",
    "    min_price = prices[0]\n",
    "    \n",
    "    for i in range(1, len(prices)):\n",
    "        if prices[i] < prices[i-1]:\n",
    "            max_profit += prices[i-1] - min_price\n",
    "            print(f\"Bought at {min_price}, Sold at {prices[i-1]}, Profit = {prices[i-1] - min_price}, Total Profit = {max_profit}\")\n",
    "            min_price = prices[i]\n",
    "    \n",
    "    max_profit += prices[-1] - min_price\n",
    "    print(f\"Bought at {min_price}, Sold at {prices[-1]}, Profit = {prices[-1] - min_price}, Total Profit = {max_profit}\")\n",
    "    \n",
    "    return max_profit\n",
    "\n",
    "prices = [100, 180, 310, 210, 40, 695, 538]\n",
    "print(\"Maximum profit:\", max_profit(prices))\n"
   ]
  },
  {
   "cell_type": "code",
   "execution_count": 70,
   "id": "f363c992",
   "metadata": {},
   "outputs": [
    {
     "name": "stdout",
     "output_type": "stream",
     "text": [
      "Enter the number of rows: 3 \n",
      "Enter the number of columns: 3\n",
      "Enter space-separated elements for row 1: 1 2 3\n",
      "Enter space-separated elements for row 2: 4 5 6\n",
      "Enter space-separated elements for row 3: 7 8 9\n",
      "Elements in spiral order: [1, 2, 3, 6, 9, 8, 7, 4, 5]\n"
     ]
    }
   ],
   "source": [
    "\"\"\"Print the elements in spiral order\"\"\"\n",
    "def spiral_order(matrix):\n",
    "    if not matrix:\n",
    "        return []\n",
    "    \n",
    "    result = []\n",
    "    rows, cols = len(matrix), len(matrix[0])\n",
    "    top, bottom, left, right = 0, rows - 1, 0, cols - 1\n",
    "    \n",
    "    while top <= bottom and left <= right:\n",
    "        # Traverse top row\n",
    "        for j in range(left, right + 1):\n",
    "            result.append(matrix[top][j])\n",
    "        top += 1\n",
    "        \n",
    "        # Traverse right column\n",
    "        for i in range(top, bottom + 1):\n",
    "            result.append(matrix[i][right])\n",
    "        right -= 1\n",
    "        \n",
    "        # Traverse bottom row\n",
    "        if top <= bottom:\n",
    "            for j in range(right, left - 1, -1):\n",
    "                result.append(matrix[bottom][j])\n",
    "            bottom -= 1\n",
    "        \n",
    "        # Traverse left column\n",
    "        if left <= right:\n",
    "            for i in range(bottom, top - 1, -1):\n",
    "                result.append(matrix[i][left])\n",
    "            left += 1\n",
    "    \n",
    "    return result\n",
    "\n",
    "# Take user input for the matrix\n",
    "rows = int(input(\"Enter the number of rows: \"))\n",
    "cols = int(input(\"Enter the number of columns: \"))\n",
    "matrix = []\n",
    "for i in range(rows):\n",
    "    row = list(map(int, input(f\"Enter space-separated elements for row {i+1}: \").split()))\n",
    "    matrix.append(row)\n",
    "\n",
    "# Print the elements in spiral order\n",
    "print(\"Elements in spiral order:\", spiral_order(matrix))\n"
   ]
  },
  {
   "cell_type": "code",
   "execution_count": 92,
   "id": "a534c706",
   "metadata": {},
   "outputs": [
    {
     "name": "stdout",
     "output_type": "stream",
     "text": [
      "1 2 3 4\n",
      "[[1], [2], [3], [4], [1, 2], [1, 3], [1, 4], [2, 3], [2, 4], [3, 4], [1, 2, 3], [1, 2, 4], [1, 3, 4], [2, 3, 4], [1, 2, 3, 4]]\n"
     ]
    }
   ],
   "source": [
    "\"\"\"Possible combinations of elements using inbuilt library \"\"\"\n",
    "from itertools import combinations\n",
    "\n",
    "li = list(map(int, input().split()))\n",
    "res = []\n",
    "\n",
    "for i in range(1, len(li) + 1):  \n",
    "    for comb in combinations(li, i):  \n",
    "        res.append(list(comb))\n",
    "\n",
    "print(res)\n"
   ]
  },
  {
   "cell_type": "code",
   "execution_count": 91,
   "id": "9d5c042c",
   "metadata": {},
   "outputs": [
    {
     "name": "stdout",
     "output_type": "stream",
     "text": [
      "1 2 3 4\n",
      "[[1, 2, 3, 4], [1, 2, 3], [1, 2, 4], [1, 2], [1, 3, 4], [1, 3], [1, 4], [1], [2, 3, 4], [2, 3], [2, 4], [2], [3, 4], [3], [4]]\n"
     ]
    }
   ],
   "source": [
    "\"\"\"Possible combinations of elements using recursion and backtracking\"\"\"\n",
    "def generate_combinations(li, start, end, combo, result):\n",
    "    if start == end:\n",
    "        if combo:  \n",
    "            result.append(combo[:])  \n",
    "        return\n",
    "    \n",
    "    combo.append(li[start])\n",
    "    generate_combinations(li, start + 1, end, combo, result)\n",
    "    combo.pop()  \n",
    "    generate_combinations(li, start + 1, end, combo, result)\n",
    "\n",
    "li = list(map(int, input().split()))\n",
    "res = []\n",
    "generate_combinations(li, 0, len(li), [], res)\n",
    "print(res)\n"
   ]
  },
  {
   "cell_type": "code",
   "execution_count": 99,
   "id": "76466abe",
   "metadata": {},
   "outputs": [
    {
     "name": "stdout",
     "output_type": "stream",
     "text": [
      "0 1 1 1 1\n",
      "9 1 1 1 1\n",
      "7 2 2 2 2\n",
      "4 4 3 3 2\n"
     ]
    }
   ],
   "source": [
    "\"\"\" Sorting boundary elements in matrix \"\"\" \n",
    "li = [\n",
    "    [1, 2, 3, 4, 0],\n",
    "    [1, 1, 1, 1, 2],\n",
    "    [1, 2, 2, 2, 4],\n",
    "    [1, 9, 3, 1, 7]\n",
    "]\n",
    "\n",
    "l = []\n",
    "rows = len(li)\n",
    "cols = len(li[0])\n",
    "\n",
    "# Collect boundary elements\n",
    "for i in range(rows):\n",
    "    for j in range(cols):\n",
    "        if i == 0 or j == 0 or i == rows - 1 or j == cols - 1:\n",
    "            l.append(li[i][j])\n",
    "\n",
    "# Sort the boundary elements\n",
    "l.sort()\n",
    "\n",
    "# Replace boundary elements in the matrix following the specific order\n",
    "k = 0\n",
    "# Top row (left to right)\n",
    "for j in range(cols):\n",
    "    li[0][j] = l[k]\n",
    "    k += 1\n",
    "\n",
    "# Right column (top to bottom)\n",
    "for i in range(1, rows):\n",
    "    li[i][cols - 1] = l[k]\n",
    "    k += 1\n",
    "\n",
    "# Bottom row (right to left)\n",
    "for j in range(cols - 2, -1, -1):\n",
    "    li[rows - 1][j] = l[k]\n",
    "    k += 1\n",
    "\n",
    "# Left column (bottom to top)\n",
    "for i in range(rows - 2, 0, -1):\n",
    "    li[i][0] = l[k]\n",
    "    k += 1\n",
    "\n",
    "# Print the modified matrix\n",
    "for row in li:\n",
    "    print(' '.join(map(str, row)))\n"
   ]
  },
  {
   "cell_type": "code",
   "execution_count": 126,
   "id": "c5074c32",
   "metadata": {},
   "outputs": [
    {
     "name": "stdout",
     "output_type": "stream",
     "text": [
      "Enter the number: 1234\n",
      "Enter the digit to find: 3\n",
      "29\n",
      "1205\n",
      "29\n"
     ]
    }
   ],
   "source": [
    "# Function to find the place value of the digit in the number\n",
    "def find_place_value(n, s):\n",
    "    num_str = str(n)[::-1]  # Reverse the number string\n",
    "    for i in range(len(num_str)):\n",
    "        if int(num_str[i]) == s:\n",
    "            place_value = 10 ** i\n",
    "            return place_value\n",
    "    return None  # If digit s is not found\n",
    "\n",
    "# Take input from user\n",
    "n = int(input(\"Enter the number: \"))\n",
    "s = int(input(\"Enter the digit to find: \"))\n",
    "\n",
    "# Find and print the place value\n",
    "place_value = find_place_value(n, s)\n",
    "s=s*place_value-1\n",
    "\n",
    "print(s)\n",
    "ss=n-s\n",
    "print (ss)\n",
    "print(n-ss)"
   ]
  },
  {
   "cell_type": "code",
   "execution_count": 131,
   "id": "d757ac5c",
   "metadata": {},
   "outputs": [
    {
     "name": "stdout",
     "output_type": "stream",
     "text": [
      "Enter the number: 2000\n",
      "Enter the digit to remove: 2\n",
      "Number after removing digit 2: 1999\n"
     ]
    }
   ],
   "source": [
    "def remove_digit_by_subtracting(n, s):\n",
    "    while str(s) in str(n):\n",
    "        n -= 1\n",
    "    return n\n",
    "\n",
    "# Take input from user\n",
    "n = int(input(\"Enter the number: \"))\n",
    "s = int(input(\"Enter the digit to remove: \"))\n",
    "\n",
    "# Remove the specified digit by continuously subtracting\n",
    "result = remove_digit_by_subtracting(n, s)\n",
    "print(f\"Number after removing digit {s}: {result}\")\n"
   ]
  },
  {
   "cell_type": "code",
   "execution_count": null,
   "id": "529865ac",
   "metadata": {},
   "outputs": [],
   "source": []
  }
 ],
 "metadata": {
  "kernelspec": {
   "display_name": "Python 3 (ipykernel)",
   "language": "python",
   "name": "python3"
  },
  "language_info": {
   "codemirror_mode": {
    "name": "ipython",
    "version": 3
   },
   "file_extension": ".py",
   "mimetype": "text/x-python",
   "name": "python",
   "nbconvert_exporter": "python",
   "pygments_lexer": "ipython3",
   "version": "3.10.9"
  }
 },
 "nbformat": 4,
 "nbformat_minor": 5
}

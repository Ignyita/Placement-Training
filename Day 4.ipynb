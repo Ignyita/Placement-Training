{
 "cells": [
  {
   "cell_type": "markdown",
   "id": "afe0c3fc",
   "metadata": {},
   "source": [
    "# OOP"
   ]
  },
  {
   "cell_type": "markdown",
   "id": "a9c8c33a",
   "metadata": {},
   "source": [
    "### Theory Concepts\n",
    "1) System Softwar \n",
    "    - os\n",
    "    - uses C language\n",
    "2) Application software\n",
    "    - ms office\n",
    "    - uses OOP based language \n",
    "3) Internet Software\n",
    "   - gmail\n",
    "   \n",
    "- <b> Class Diagrams </b>\n",
    "- Polymorphism\n",
    "- Inheritance\n",
    "- Abstraction\n",
    "- Encapsulation"
   ]
  },
  {
   "cell_type": "code",
   "execution_count": 13,
   "id": "29e5cb8e",
   "metadata": {},
   "outputs": [
    {
     "name": "stdout",
     "output_type": "stream",
     "text": [
      "Reading book: The Spanish Love Deception with 500 pages\n",
      "Reading book: The Spanish Love Deception with 500 pages in genre: Contemporary\n"
     ]
    }
   ],
   "source": [
    "class Book:\n",
    "    def __init__(self, name, pages):\n",
    "        self.name = name\n",
    "        self.pages = pages\n",
    "\n",
    "    def read(self):\n",
    "        print(\"Reading book:\", self.name, \"with\", self.pages, \"pages\")\n",
    "\n",
    "class Genre(Book):\n",
    "    def __init__(self, name, pages, genre):\n",
    "        super().__init__(name, pages)  \n",
    "        self.genre = genre\n",
    "\n",
    "    def read(self):\n",
    "        print(\"Reading book:\", self.name, \"with\", self.pages, \"pages in genre:\", self.genre)\n",
    "\n",
    "# Create object of class\n",
    "book = Book(\"The Spanish Love Deception\", 500)\n",
    "book.read()\n",
    "\n",
    "genre_book = Genre(\"The Spanish Love Deception\", 500, \"Contemporary\")\n",
    "genre_book.read()\n"
   ]
  },
  {
   "cell_type": "code",
   "execution_count": 21,
   "id": "27902bd2",
   "metadata": {},
   "outputs": [
    {
     "name": "stdout",
     "output_type": "stream",
     "text": [
      "Enter the number of employees: 4\n",
      "Enter employee ID: E001\n",
      "Enter name: Anna\n",
      "Enter department ID: D001\n",
      "Enter blood group: A+\n",
      "Enter salary: 20000\n",
      "Enter employee ID: E002\n",
      "Enter name: Catalina\n",
      "Enter department ID: D002\n",
      "Enter blood group: B+\n",
      "Enter salary: 50000\n",
      "Enter employee ID: E003\n",
      "Enter name: Aaron\n",
      "Enter department ID: D002\n",
      "Enter blood group: B_\n",
      "Enter salary: 60000\n",
      "Enter employee ID: E004\n",
      "Enter name: Adalyn\n",
      "Enter department ID: D003\n",
      "Enter blood group: O-\n",
      "Enter salary: 100000\n",
      "\n",
      "Employee Details:\n",
      "ID: E001\n",
      "Name: Anna\n",
      "Department ID: D001\n",
      "Blood Group: A+\n",
      "Salary: 20000.0\n",
      "\n",
      "Employee Details:\n",
      "ID: E002\n",
      "Name: Catalina\n",
      "Department ID: D002\n",
      "Blood Group: B+\n",
      "Salary: 50000.0\n",
      "\n",
      "Employee Details:\n",
      "ID: E003\n",
      "Name: Aaron\n",
      "Department ID: D002\n",
      "Blood Group: B_\n",
      "Salary: 60000.0\n",
      "\n",
      "Employee Details:\n",
      "ID: E004\n",
      "Name: Adalyn\n",
      "Department ID: D003\n",
      "Blood Group: O-\n",
      "Salary: 100000.0\n",
      "Which employee detail? Please enter employee ID: E003\n",
      "\n",
      "Employee Details:\n",
      "ID: E003\n",
      "Name: Aaron\n",
      "Department ID: D002\n",
      "Blood Group: B_\n",
      "Salary: 60000.0\n"
     ]
    }
   ],
   "source": [
    "class Employee:\n",
    "    def __init__(self, emp_id=\"E001\", name=\"Anna\", dep_id='D001', blood_group='O+', salary=0):\n",
    "        self.emp_id = emp_id\n",
    "        self.name = name\n",
    "        self.dep_id = dep_id\n",
    "        self.blood_group = blood_group\n",
    "        self.salary = salary\n",
    "\n",
    "    # Getter methods\n",
    "    def get_emp_id(self):\n",
    "        return self.emp_id\n",
    "\n",
    "    def get_name(self):\n",
    "        return self.name\n",
    "\n",
    "    def get_dep_id(self):\n",
    "        return self.dep_id\n",
    "\n",
    "    def get_blood_group(self):\n",
    "        return self.blood_group\n",
    "\n",
    "    def get_salary(self):\n",
    "        return self.salary\n",
    "\n",
    "    # Setter methods\n",
    "    def set_emp_id(self, emp_id):\n",
    "        self.emp_id = emp_id\n",
    "\n",
    "    def set_name(self, name):\n",
    "        self.name = name\n",
    "\n",
    "    def set_dep_id(self, dep_id):\n",
    "        self.dep_id = dep_id\n",
    "\n",
    "    def set_blood_group(self, blood_group):\n",
    "        self.blood_group = blood_group\n",
    "\n",
    "    def set_salary(self, salary):\n",
    "        self.salary = salary\n",
    "\n",
    "def create_employee():\n",
    "    emp_id = input(\"Enter employee ID: \")\n",
    "    name = input(\"Enter name: \")\n",
    "    dep_id = input(\"Enter department ID: \")\n",
    "    blood_group = input(\"Enter blood group: \")\n",
    "    salary = float(input(\"Enter salary: \"))\n",
    "    return Employee(emp_id, name, dep_id, blood_group, salary)\n",
    "\n",
    "def show_employee_details(employee):\n",
    "    print(\"\\nEmployee Details:\")\n",
    "    print(f\"ID: {employee.get_emp_id()}\")\n",
    "    print(f\"Name: {employee.get_name()}\")\n",
    "    print(f\"Department ID: {employee.get_dep_id()}\")\n",
    "    print(f\"Blood Group: {employee.get_blood_group()}\")\n",
    "    print(f\"Salary: {employee.get_salary()}\")\n",
    "\n",
    "\n",
    "employee_list = []\n",
    "num_employees = int(input(\"Enter the number of employees: \"))\n",
    "\n",
    "for _ in range(num_employees):\n",
    "    employee = create_employee()\n",
    "    employee_list.append(employee)\n",
    "\n",
    "for emp in employee_list:\n",
    "    show_employee_details(emp)\n",
    "\n",
    "\n",
    "def show_employee_detail_by_id(emp_list, emp_id):\n",
    "    for emp in emp_list:\n",
    "        if emp.get_emp_id() == emp_id:\n",
    "            show_employee_details(emp)\n",
    "            return\n",
    "    print(f\"Employee with ID {emp_id} not found.\")\n",
    "\n",
    "\n",
    "emp_id = input(\"Which employee detail? Please enter employee ID: \")\n",
    "show_employee_detail_by_id(employee_list, emp_id)\n"
   ]
  },
  {
   "cell_type": "code",
   "execution_count": 17,
   "id": "8a6191c7",
   "metadata": {},
   "outputs": [
    {
     "name": "stdout",
     "output_type": "stream",
     "text": [
      "Name: Alice, Contact: 12345, Premium ID: P001, Discount: 10%\n",
      "\n",
      "Name: Bob, Contact: 67890, Regular ID: R001, Discount: 5%\n",
      "\n",
      "Product ID: PRD1, Product Name: Laptop\n",
      "Order ID: ORD001, Product ID: PRD1, Customer ID: P001\n",
      "\n",
      "Previous Orders for Customer 1:\n",
      "Order ID: ORD001, Product ID: PRD1, Customer ID: P001\n",
      "Applying 10% discount for Premium Customer\n",
      "\n",
      "Previous Orders for Customer 2:\n",
      "Order ID: ORD002, Product ID: PRD2, Customer ID: R001\n",
      "Applying 5% discount for Regular Customer\n",
      "\n",
      "Name: Alice Smith, Contact: 54321, Premium ID: P002, Discount: 10%\n",
      "Product ID: PRD1, Product Name: Gaming Laptop\n",
      "Order ID: ORD001, Product ID: PRD1, Customer ID: P002\n"
     ]
    }
   ],
   "source": [
    "class Order:\n",
    "    customer_orders = {}\n",
    "\n",
    "    def __init__(self, order_id='', product_id='', customer_id=''):\n",
    "        self.order_id = order_id\n",
    "        self.product_id = product_id\n",
    "        self.customer_id = customer_id\n",
    "\n",
    "        if customer_id in Order.customer_orders:\n",
    "            Order.customer_orders[customer_id].append(self)\n",
    "        else:\n",
    "            Order.customer_orders[customer_id] = [self]\n",
    "\n",
    "    @staticmethod\n",
    "    def get_customer_previous_orders(customer_id):\n",
    "        if customer_id in Order.customer_orders:\n",
    "            return Order.customer_orders[customer_id]\n",
    "        else:\n",
    "            return []\n",
    "\n",
    "    def get_order_details(self):\n",
    "        return f\"Order ID: {self.order_id}, Product ID: {self.product_id}, Customer ID: {self.customer_id}\"\n",
    "\n",
    "    def set_order_details(self, order_id, product_id, customer_id):\n",
    "        self.order_id = order_id\n",
    "        self.product_id = product_id\n",
    "        self.customer_id = customer_id\n",
    "    \n",
    "    def apply_discount(self):\n",
    "        if self.customer_id.startswith('P'):\n",
    "            premium_customer = Premium.get_premium_discount()\n",
    "            return f\"Applying {premium_customer} discount for Premium Customer\"\n",
    "        elif self.customer_id.startswith('R'):\n",
    "            regular_customer = Regular.get_regular_discount()\n",
    "            return f\"Applying {regular_customer} discount for Regular Customer\"\n",
    "        else:\n",
    "            return \"No discount available\"\n",
    "\n",
    "\n",
    "class Product:\n",
    "    def __init__(self, product_id='', product_name=''):\n",
    "        self.product_id = product_id\n",
    "        self.product_name = product_name\n",
    "    \n",
    "    def get_product_details(self):\n",
    "        return f\"Product ID: {self.product_id}, Product Name: {self.product_name}\"\n",
    "\n",
    "    def set_product_details(self, product_id, product_name):\n",
    "        self.product_id = product_id\n",
    "        self.product_name = product_name\n",
    "\n",
    "class Customer:\n",
    "    def __init__(self, name='', contact=''):\n",
    "        self.name = name\n",
    "        self.contact = contact\n",
    "\n",
    "    def get_details(self):\n",
    "        return f\"Name: {self.name}, Contact: {self.contact}\"\n",
    "\n",
    "\n",
    "class Premium(Customer):\n",
    "    def __init__(self, name='', contact='', pid=''):\n",
    "        super().__init__(name, contact)\n",
    "        self.pid = pid\n",
    "\n",
    "    def get_premium_details(self):\n",
    "        return f\"{self.get_details()}, Premium ID: {self.pid}, Discount: 10%\"\n",
    "\n",
    "    def set_premium_details(self, name, contact, pid):\n",
    "        self.name = name\n",
    "        self.contact = contact\n",
    "        self.pid = pid\n",
    "\n",
    "    @staticmethod\n",
    "    def get_premium_discount():\n",
    "        return \"10%\"\n",
    "\n",
    "class Regular(Customer):\n",
    "    def __init__(self, name='', contact='', rid=''):\n",
    "        super().__init__(name, contact)\n",
    "        self.rid = rid\n",
    "\n",
    "    def get_regular_details(self):\n",
    "        return f\"{self.get_details()}, Regular ID: {self.rid}, Discount: 5%\"\n",
    "\n",
    "    def set_regular_details(self, name, contact, rid):\n",
    "        self.set_details(name, contact)\n",
    "        self.rid = rid\n",
    "\n",
    "    @staticmethod\n",
    "    def get_regular_discount():\n",
    "        return \"5%\"\n",
    "\n",
    "# Example Usage\n",
    "# Creating customer objects\n",
    "customer1 = Premium(name=\"Alice\", contact=\"12345\", pid=\"P001\")\n",
    "customer2 = Regular(name=\"Bob\", contact=\"67890\", rid=\"R001\")\n",
    "\n",
    "# Creating product objects\n",
    "product1 = Product(product_id=\"PRD1\", product_name=\"Laptop\")\n",
    "product2 = Product(product_id=\"PRD2\", product_name=\"Smartphone\")\n",
    "\n",
    "# Creating order objects\n",
    "order1 = Order(order_id=\"ORD001\", product_id=\"PRD1\", customer_id=\"P001\")\n",
    "order2 = Order(order_id=\"ORD002\", product_id=\"PRD2\", customer_id=\"R001\")\n",
    "\n",
    "# Displaying details\n",
    "print(customer1.get_premium_details())\n",
    "print(\"\")\n",
    "print(customer2.get_regular_details())\n",
    "print(\"\")\n",
    "\n",
    "print(product1.get_product_details())\n",
    "print(order1.get_order_details())\n",
    "print(\"\")\n",
    "# Fetching previous orders and applying discounts\n",
    "previous_orders_customer1 = Order.get_customer_previous_orders(\"P001\")\n",
    "if previous_orders_customer1:\n",
    "    print(\"Previous Orders for Customer 1:\")\n",
    "    for order in previous_orders_customer1:\n",
    "        print(order.get_order_details())\n",
    "    print(order1.apply_discount())\n",
    "else:\n",
    "    print(\"No previous orders found for Customer 1\")\n",
    "print(\"\")\n",
    "previous_orders_customer2 = Order.get_customer_previous_orders(\"R001\")\n",
    "if previous_orders_customer2:\n",
    "    print(\"Previous Orders for Customer 2:\")\n",
    "    for order in previous_orders_customer2:\n",
    "        print(order.get_order_details())\n",
    "    print(order2.apply_discount())\n",
    "else:\n",
    "    print(\"No previous orders found for Customer 2\")\n",
    "\n",
    "print(\"\")\n",
    "# Updating details\n",
    "customer1.set_premium_details(\"Alice Smith\", \"54321\", \"P002\")\n",
    "product1.set_product_details(\"PRD1\", \"Gaming Laptop\")\n",
    "order1.set_order_details(\"ORD001\", \"PRD1\", \"P002\")\n",
    "\n",
    "# Displaying updated details\n",
    "print(customer1.get_premium_details())\n",
    "print(product1.get_product_details())\n",
    "print(order1.get_order_details())\n"
   ]
  },
  {
   "cell_type": "code",
   "execution_count": 33,
   "id": "08aaa66b",
   "metadata": {},
   "outputs": [
    {
     "name": "stdout",
     "output_type": "stream",
     "text": [
      "Generic animal sound\n",
      "Woof!\n",
      "Meow!\n"
     ]
    }
   ],
   "source": [
    "\"\"\" method overiding \"\"\"\n",
    "class Animal:\n",
    "    def make_sound(self):\n",
    "        return \"Generic animal sound\"\n",
    "\n",
    "\n",
    "class Dog(Animal):\n",
    "    def make_sound(self):\n",
    "        return \"Woof!\"\n",
    "\n",
    "\n",
    "class Cat(Animal):\n",
    "    def make_sound(self):\n",
    "        return \"Meow!\"\n",
    "\n",
    "animal = Animal()\n",
    "print(animal.make_sound())  \n",
    "\n",
    "dog = Dog()\n",
    "print(dog.make_sound())   \n",
    "\n",
    "cat = Cat()\n",
    "print(cat.make_sound())   \n"
   ]
  },
  {
   "cell_type": "code",
   "execution_count": 35,
   "id": "34142d28",
   "metadata": {},
   "outputs": [
    {
     "name": "stdout",
     "output_type": "stream",
     "text": [
      "I'm public\n",
      "I'm a public method\n",
      "I'm protected\n",
      "I'm a protected method\n",
      "I'm private\n",
      "I'm a private method\n"
     ]
    }
   ],
   "source": [
    "\"\"\" Access Modifiers \"\"\"\n",
    "class MyClass:\n",
    "    def __init__(self):\n",
    "        self.public_attribute = \"I'm public\"\n",
    "        self._protected_attribute = \"I'm protected\"\n",
    "        self.__private_attribute = \"I'm private\"\n",
    "\n",
    "    def public_method(self):\n",
    "        return \"I'm a public method\"\n",
    "\n",
    "    def _protected_method(self):\n",
    "        return \"I'm a protected method\"\n",
    "\n",
    "    def __private_method(self):\n",
    "        return \"I'm a private method\"\n",
    "\n",
    "\n",
    "# Example Usage\n",
    "obj = MyClass()\n",
    "\n",
    "# Accessing public attributes and methods\n",
    "print(obj.public_attribute)    \n",
    "print(obj.public_method())       \n",
    "\n",
    "# Accessing protected attributes and methods\n",
    "print(obj._protected_attribute) \n",
    "print(obj._protected_method())   \n",
    "\n",
    "# Attempting to access private attributes and methods directly raises an AttributeError\n",
    "# print(obj.__private_attribute)  \n",
    "# print(obj.__private_method())  \n",
    "\n",
    "# However, name mangling does not prevent access entirely\n",
    "# Accessing private attributes and methods through mangled names still works\n",
    "print(obj._MyClass__private_attribute) \n",
    "print(obj._MyClass__private_method())   \n"
   ]
  },
  {
   "cell_type": "code",
   "execution_count": 2,
   "id": "fc20d76e",
   "metadata": {},
   "outputs": [
    {
     "name": "stdout",
     "output_type": "stream",
     "text": [
      "Tata\n"
     ]
    }
   ],
   "source": [
    "from abc import ABC, abstractmethod\n",
    "\n",
    "class Car(ABC):\n",
    "    def __init__(self, brand):\n",
    "        self.brand = brand\n",
    "    \n",
    "    @abstractmethod\n",
    "    def printDetails(self):\n",
    "        pass\n",
    "\n",
    "class Hatchback(Car):\n",
    "    def printDetails(self):\n",
    "        print(self.brand)\n",
    "\n",
    "carl = Hatchback('Tata')\n",
    "carl.printDetails()\n"
   ]
  },
  {
   "cell_type": "code",
   "execution_count": 8,
   "id": "0fe37e46",
   "metadata": {},
   "outputs": [
    {
     "name": "stdout",
     "output_type": "stream",
     "text": [
      "{3,5}\n",
      "True\n"
     ]
    }
   ],
   "source": [
    "class Point:\n",
    "    def __init__(self, x=0, y=0):\n",
    "        self.x = x\n",
    "        self.y = y\n",
    "    \n",
    "    def __str__(self):\n",
    "        return \"{{{0},{1}}}\".format(self.x, self.y)\n",
    "    \n",
    "    def __add__(self, other):\n",
    "        x = self.x + other.x\n",
    "        y = self.y + other.y\n",
    "        return Point(x, y)\n",
    "    def __lt__(self,other):\n",
    "        return self.x < other.x\n",
    "\n",
    "p1 = Point(1, 2)\n",
    "p2 = Point(2, 3)\n",
    "print(p1 + p2)\n",
    "print(p1<p2)\n"
   ]
  },
  {
   "cell_type": "markdown",
   "id": "d986d26e",
   "metadata": {},
   "source": [
    "### Lambda"
   ]
  },
  {
   "cell_type": "code",
   "execution_count": 19,
   "id": "e3ec61b7",
   "metadata": {},
   "outputs": [
    {
     "name": "stdout",
     "output_type": "stream",
     "text": [
      "[2, 4, 6, 8, 10]\n"
     ]
    }
   ],
   "source": [
    "l=[1,2,3,4,5]\n",
    "n=list(map(lambda x:x*2,l))\n",
    "print(n)"
   ]
  },
  {
   "cell_type": "code",
   "execution_count": 20,
   "id": "e57e0bca",
   "metadata": {},
   "outputs": [
    {
     "name": "stdout",
     "output_type": "stream",
     "text": [
      "Hello  Megh\n"
     ]
    }
   ],
   "source": [
    "greet=lambda name:print(\"Hello \",name)\n",
    "greet(\"Megh\")"
   ]
  },
  {
   "cell_type": "markdown",
   "id": "f849bf57",
   "metadata": {},
   "source": [
    "iterator=iter(l)\n",
    "print(next(iterator))\n",
    "for e in iterator:\n",
    "    print(e)"
   ]
  },
  {
   "cell_type": "code",
   "execution_count": 27,
   "id": "13ed4751",
   "metadata": {},
   "outputs": [
    {
     "name": "stdout",
     "output_type": "stream",
     "text": [
      "Me\n"
     ]
    }
   ],
   "source": [
    "def greet(name):\n",
    "    def disp():\n",
    "        print(name)\n",
    "    disp()\n",
    "greet(\"Me\")"
   ]
  },
  {
   "cell_type": "markdown",
   "id": "85f1a325",
   "metadata": {},
   "source": [
    "### Decorator"
   ]
  },
  {
   "cell_type": "code",
   "execution_count": 45,
   "id": "d8f6f98b",
   "metadata": {},
   "outputs": [
    {
     "name": "stdout",
     "output_type": "stream",
     "text": [
      "10\n"
     ]
    }
   ],
   "source": [
    "def add(x,y):\n",
    "    return x+y\n",
    "def calculate(func,x,y):\n",
    "    return func(x,y)\n",
    "res=calculate(add,5,5)\n",
    "print(res)"
   ]
  },
  {
   "cell_type": "markdown",
   "id": "def8141d",
   "metadata": {},
   "source": [
    "#### Property"
   ]
  },
  {
   "cell_type": "code",
   "execution_count": 34,
   "id": "ddc2cf89",
   "metadata": {},
   "outputs": [
    {
     "name": "stdout",
     "output_type": "stream",
     "text": [
      "37\n",
      "98.60000000000001\n"
     ]
    }
   ],
   "source": [
    "class Celsius:\n",
    "    def __init__(self, temp=0):\n",
    "        self.temp = temp\n",
    "\n",
    "    def to_fahrenheit(self):\n",
    "        return (self.temp * 1.8) + 32\n",
    "\n",
    "    # getter\n",
    "    def get_temp(self):\n",
    "        return self._temp\n",
    "\n",
    "    # setter\n",
    "    def set_temp(self, val):\n",
    "        if val < -273.15:\n",
    "            raise ValueError(\"Temperature below -273.15°C is not possible\")\n",
    "        self._temp = val\n",
    "\n",
    "    temp = property(get_temp, set_temp)\n",
    "\n",
    "# Creating an instance of Celsius\n",
    "human = Celsius(37)\n",
    "\n",
    "# Printing the temperature\n",
    "print(human.temp)\n",
    "print(human.to_fahrenheit())"
   ]
  },
  {
   "cell_type": "markdown",
   "id": "7b5995b2",
   "metadata": {},
   "source": [
    "## Regular Expression"
   ]
  },
  {
   "cell_type": "code",
   "execution_count": 38,
   "id": "704e377a",
   "metadata": {},
   "outputs": [
    {
     "name": "stdout",
     "output_type": "stream",
     "text": [
      "<re.Match object; span=(0, 1), match='a'>\n"
     ]
    }
   ],
   "source": [
    "#regular expression \n",
    "\n",
    "import re\n",
    "pattern = \"[abc]\"\n",
    "test_string = \"abcdabb\"\n",
    "result = re.match(pattern, test_string)\n",
    "print(result)\n"
   ]
  },
  {
   "cell_type": "code",
   "execution_count": 44,
   "id": "0b13179d",
   "metadata": {},
   "outputs": [
    {
     "name": "stdout",
     "output_type": "stream",
     "text": [
      "['a', 'b', 'c', 'a', 'b', 'b']\n"
     ]
    }
   ],
   "source": [
    "import re\n",
    "\n",
    "pattern = \"[abc]\"\n",
    "test_string = \"abcdabbefgd\"\n",
    "result = re.findall(pattern, test_string)\n",
    "print(result)\n"
   ]
  },
  {
   "cell_type": "code",
   "execution_count": 42,
   "id": "e0c7c984",
   "metadata": {},
   "outputs": [
    {
     "name": "stdout",
     "output_type": "stream",
     "text": [
      "Match found: a\n"
     ]
    }
   ],
   "source": [
    "import re\n",
    "\n",
    "pattern = \"[abc]\"\n",
    "test_string = \"abcdabb\"\n",
    "result = re.match(pattern, test_string)\n",
    "if result:\n",
    "    print(\"Match found:\", result.group())\n",
    "else:\n",
    "    print(\"No match found\")\n"
   ]
  },
  {
   "cell_type": "markdown",
   "id": "11b147a1",
   "metadata": {},
   "source": [
    "### DateTime "
   ]
  },
  {
   "cell_type": "code",
   "execution_count": 56,
   "id": "964162ff",
   "metadata": {},
   "outputs": [
    {
     "name": "stdout",
     "output_type": "stream",
     "text": [
      "2024-06-11\n",
      "2024-06-11 14:46:09.081380+05:30\n"
     ]
    }
   ],
   "source": [
    "import datetime\n",
    "import pytz\n",
    "\n",
    "# Get the current date\n",
    "d = datetime.date.today()\n",
    "print(d)\n",
    "\n",
    "# Get the current time in the specified timezone\n",
    "tz = pytz.timezone(\"Asia/Kolkata\")\n",
    "now = datetime.datetime.now(tz)\n",
    "print(now)\n"
   ]
  },
  {
   "cell_type": "code",
   "execution_count": 66,
   "id": "9539b67b",
   "metadata": {},
   "outputs": [
    {
     "name": "stdout",
     "output_type": "stream",
     "text": [
      "1bbbbbttttt22222222iiiiidddd\n",
      "Accepted\n"
     ]
    }
   ],
   "source": [
    "\"\"\"\n",
    "validate the bitcoin by btc address\n",
    "contains 26-35 alphanumeric characters\n",
    "starts with 1,3,or bci\n",
    "contains digits in range 0 to 9\n",
    "O,L,o,l and 0 not allowed\n",
    "no whitespace or special characters\n",
    "both upper and lowercase letters are accepted\n",
    "\"\"\"\n",
    "import sys\n",
    "btc=input()\n",
    "not_allowed=['L','O','l','o',0]\n",
    "if 26<=len(btc)<=35 and btc.isalnum():\n",
    "    if btc[0]=='1' or btc[0]=='3' or btc[0:3]=='bci':\n",
    "        for i in range(len(btc)):\n",
    "            if btc[i] not in not_allowed:\n",
    "                print('Accepted')\n",
    "                break\n",
    "            else:\n",
    "                print(\"Has not allowed Character\")\n",
    "    else:\n",
    "        print(\"Does not begin with proper value\")\n",
    "else:\n",
    "    print(\"Issue with length or has special characters \" ,len(btc))\n",
    "    \n",
    "\n"
   ]
  },
  {
   "cell_type": "code",
   "execution_count": 7,
   "id": "4ca23ac6",
   "metadata": {},
   "outputs": [
    {
     "name": "stdout",
     "output_type": "stream",
     "text": [
      "3\n",
      "3\n",
      "False\n"
     ]
    }
   ],
   "source": [
    "class Solution:\n",
    "    def isSubsequence(self, s: str, t: str) -> bool:\n",
    "        if set(s).issubset(set(t)):\n",
    "            j=0\n",
    "            for i in range(len(t)):\n",
    "                if t[i]==s[j]:\n",
    "                    j+=1\n",
    "            print(j)\n",
    "            print(len(s))\n",
    "            if j==len(t)-1:\n",
    "                return True\n",
    "            else:\n",
    "                return False\n",
    "\n",
    "        else:\n",
    "            return False\n",
    "        \n",
    "\n",
    "sol=Solution()\n",
    "s=\"abc\"\n",
    "t=\"axxbvvc\"\n",
    "n=sol.isSubsequence(s,t)\n",
    "print(n)"
   ]
  }
 ],
 "metadata": {
  "kernelspec": {
   "display_name": "Python 3 (ipykernel)",
   "language": "python",
   "name": "python3"
  },
  "language_info": {
   "codemirror_mode": {
    "name": "ipython",
    "version": 3
   },
   "file_extension": ".py",
   "mimetype": "text/x-python",
   "name": "python",
   "nbconvert_exporter": "python",
   "pygments_lexer": "ipython3",
   "version": "3.10.9"
  }
 },
 "nbformat": 4,
 "nbformat_minor": 5
}
